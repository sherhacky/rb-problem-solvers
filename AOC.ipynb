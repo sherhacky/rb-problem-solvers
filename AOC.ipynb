{
 "cells": [
  {
   "cell_type": "code",
   "execution_count": 1,
   "metadata": {},
   "outputs": [],
   "source": [
    "import time\n",
    "total_time_start = time.time()"
   ]
  },
  {
   "cell_type": "code",
   "execution_count": 2,
   "metadata": {},
   "outputs": [
    {
     "name": "stdout",
     "output_type": "stream",
     "text": [
      "1390\n"
     ]
    }
   ],
   "source": [
    "#1. part 1\n",
    "\n",
    "def increases(nums):\n",
    "    result = 0\n",
    "    for i in range(1, len(nums)):\n",
    "        if nums[i]>nums[i-1]:\n",
    "            result += 1\n",
    "    return(result)\n",
    "\n",
    "with open('/Users/sherwoodhachtman/Downloads/input.txt') as response:\n",
    "    content = response.read()\n",
    "nums = [int(item) for item in content.split('\\n')[:-1]]\n",
    "\n",
    "print(increases(nums))"
   ]
  },
  {
   "cell_type": "code",
   "execution_count": 3,
   "metadata": {},
   "outputs": [
    {
     "name": "stdout",
     "output_type": "stream",
     "text": [
      "1457\n"
     ]
    }
   ],
   "source": [
    "# 1. part 2\n",
    "\n",
    "windows = [sum(nums[i:i+3]) for i in range(len(nums)-2)]\n",
    "print(increases(windows))"
   ]
  },
  {
   "cell_type": "code",
   "execution_count": 4,
   "metadata": {},
   "outputs": [
    {
     "name": "stdout",
     "output_type": "stream",
     "text": [
      "2039256\n"
     ]
    }
   ],
   "source": [
    "# 2. part 1\n",
    "\n",
    "import collections \n",
    "with open('/Users/sherwoodhachtman/Downloads/input2.txt') as response:\n",
    "    content = response.read()\n",
    "\n",
    "lines = content.split('\\n')[:-1]\n",
    "pairs = [i.split(' ') for i in lines]\n",
    "\n",
    "def sumdict(list_pairs):\n",
    "    result = collections.defaultdict(int)\n",
    "    for item in list_pairs:\n",
    "        key,val = item[0],item[1]\n",
    "        result[key] += int(val)\n",
    "    return result\n",
    "\n",
    "d = sumdict(pairs)\n",
    "print(d['forward']*(d['down']-d['up']))"
   ]
  },
  {
   "cell_type": "code",
   "execution_count": 5,
   "metadata": {},
   "outputs": [
    {
     "name": "stdout",
     "output_type": "stream",
     "text": [
      "1856459736\n"
     ]
    }
   ],
   "source": [
    "aim,res_h,res_y = 0,0,0\n",
    "for item in pairs:\n",
    "    key,val = item[0],item[1]\n",
    "    val = int(val)\n",
    "    if key == 'down':\n",
    "        aim += val\n",
    "    if key == 'up':\n",
    "        aim -= val\n",
    "    if key == 'forward':\n",
    "        res_h += val\n",
    "        res_y += aim*val\n",
    "print(res_h*res_y)"
   ]
  },
  {
   "cell_type": "code",
   "execution_count": 6,
   "metadata": {},
   "outputs": [
    {
     "name": "stdout",
     "output_type": "stream",
     "text": [
      "1000\n"
     ]
    }
   ],
   "source": [
    "#3\n",
    "with open('/Users/sherwoodhachtman/Downloads/input3.txt') as response:\n",
    "    content = response.read()\n",
    "    \n",
    "bitstrings = content.split('\\n')[:-1]\n",
    "print(len(bitstrings))"
   ]
  },
  {
   "cell_type": "code",
   "execution_count": 7,
   "metadata": {},
   "outputs": [],
   "source": [
    "n = len(bitstrings[0])\n",
    "record = [0]*n\n",
    "for chunk in bitstrings:\n",
    "    for i in range(n):\n",
    "        record[i] += (1 if chunk[i] == '1' else -1)"
   ]
  },
  {
   "cell_type": "code",
   "execution_count": 8,
   "metadata": {},
   "outputs": [
    {
     "data": {
      "text/plain": [
       "4191876"
      ]
     },
     "execution_count": 8,
     "metadata": {},
     "output_type": "execute_result"
    }
   ],
   "source": [
    "most = '011111101100'\n",
    "lest = '100000010011'\n",
    "int(most, 2)*int(lest, 2)"
   ]
  },
  {
   "cell_type": "code",
   "execution_count": 9,
   "metadata": {},
   "outputs": [],
   "source": [
    "def max_at(array_of_strings, i):\n",
    "    n = len(array_of_strings[0])\n",
    "    record = 0\n",
    "    for chunk in array_of_strings:\n",
    "        record += (1 if chunk[i] == '1' else -1)\n",
    "    return '1' if record >= 0 else '0'\n",
    "\n",
    "def filter_for_max(array_of_strings, i):\n",
    "    b = max_at(array_of_strings, i)\n",
    "    return [s for s in array_of_strings if s[i]==b]"
   ]
  },
  {
   "cell_type": "code",
   "execution_count": 10,
   "metadata": {},
   "outputs": [
    {
     "name": "stdout",
     "output_type": "stream",
     "text": [
      "1391\n",
      "['100110010111']\n",
      "2455\n"
     ]
    }
   ],
   "source": [
    "most = [s for s in bitstrings]\n",
    "for i in range(len(bitstrings[0])):\n",
    "    most = filter_for_max(most, i)\n",
    "\n",
    "print(int(most[0], 2))\n",
    "\n",
    "least = [s for s in bitstrings]\n",
    "i = 0\n",
    "while len(least) > 1:\n",
    "    least = [s for s in least if s not in filter_for_max(least, i)]\n",
    "    i += 1\n",
    "print(least)\n",
    "print(int(least[0], 2))"
   ]
  },
  {
   "cell_type": "code",
   "execution_count": 11,
   "metadata": {},
   "outputs": [
    {
     "data": {
      "text/plain": [
       "3414905"
      ]
     },
     "execution_count": 11,
     "metadata": {},
     "output_type": "execute_result"
    }
   ],
   "source": [
    "1391*2455"
   ]
  },
  {
   "cell_type": "code",
   "execution_count": 12,
   "metadata": {},
   "outputs": [],
   "source": [
    "#4\n",
    "import collections\n",
    "with open('/Users/sherwoodhachtman/Downloads/input4.txt') as response:\n",
    "    content = response.read()\n",
    "    \n",
    "data = content.split('\\n')\n",
    "\n",
    "calls = [int(n) for n in data[0].split(',')]\n",
    "boards = []\n",
    "\n",
    "def string_to_num_row(string):\n",
    "    return [int(n) for n in string.split(' ') if n]\n",
    "\n",
    "for k in range(2, len(data), 6):\n",
    "    boards.append([string_to_num_row(s) for s in data[k:k+5]])"
   ]
  },
  {
   "cell_type": "code",
   "execution_count": 13,
   "metadata": {},
   "outputs": [],
   "source": [
    "def wins_with_input(board, calls):\n",
    "    \"\"\"\n",
    "    board: a length 5 array of length lists of integers\n",
    "    calls: a sequence of integers\n",
    "    \"\"\"\n",
    "    if len(calls) < 5:\n",
    "        return False\n",
    "    board_index = collections.defaultdict(list)\n",
    "    for i in range(5):\n",
    "        for j in range(5):\n",
    "            board_index[board[i][j]].append((i,j))\n",
    "    \n",
    "    marked = collections.defaultdict(set)\n",
    "    \n",
    "    for k in calls:\n",
    "        if k in board_index:\n",
    "            for (i,j) in board_index[k]:\n",
    "                marked[('r',i)].add(j)\n",
    "                marked[('c',j)].add(i)\n",
    "                if i==j:\n",
    "                    marked['d'].add(i)\n",
    "                if 4-i == j:\n",
    "                    marked['a'].add(i)\n",
    "    \n",
    "    return(any(len(m)==5 for m in marked.values()))"
   ]
  },
  {
   "cell_type": "code",
   "execution_count": 14,
   "metadata": {},
   "outputs": [],
   "source": [
    "def find_winning_board(boards, calls):\n",
    "    \"\"\"\n",
    "    returns the first winning board from among boards\n",
    "    if calls is the sequence of numbers called in order\n",
    "    \"\"\"\n",
    "    for i in range(5, len(calls)):\n",
    "        for board in boards:\n",
    "            if wins_with_input(board, calls[:i]):\n",
    "                return board\n",
    "    return None            "
   ]
  },
  {
   "cell_type": "code",
   "execution_count": 15,
   "metadata": {},
   "outputs": [],
   "source": [
    "def board_wins_at(board, calls):\n",
    "    k = 5\n",
    "    while not wins_with_input(board, calls[:k]):\n",
    "        k += 1\n",
    "    return k-1\n",
    "\n",
    "def score(board, calls):\n",
    "    n = board_wins_at(board, calls)\n",
    "    board = list(board)\n",
    "    \n",
    "    for m in range(n+1):\n",
    "        for i in range(5):\n",
    "            for j in range(5):\n",
    "                if board[i][j] == calls[m]:\n",
    "                    board[i][j] = 0\n",
    "    \n",
    "    return sum(sum(row) for row in board) * calls[n]"
   ]
  },
  {
   "cell_type": "code",
   "execution_count": 16,
   "metadata": {},
   "outputs": [
    {
     "data": {
      "text/plain": [
       "49686"
      ]
     },
     "execution_count": 16,
     "metadata": {},
     "output_type": "execute_result"
    }
   ],
   "source": [
    "score(find_winning_board(boards,calls),calls)"
   ]
  },
  {
   "cell_type": "code",
   "execution_count": 17,
   "metadata": {},
   "outputs": [],
   "source": [
    "# part 2 - find and score the last board to win"
   ]
  },
  {
   "cell_type": "code",
   "execution_count": 18,
   "metadata": {},
   "outputs": [
    {
     "name": "stdout",
     "output_type": "stream",
     "text": [
      "[[87, 90, 16, 56, 67], [41, 75, 89, 1, 80], [22, 62, 5, 45, 69], [28, 36, 19, 96, 71], [26, 63, 88, 76, 31]]\n"
     ]
    },
    {
     "data": {
      "text/plain": [
       "26878"
      ]
     },
     "execution_count": 18,
     "metadata": {},
     "output_type": "execute_result"
    }
   ],
   "source": [
    "last = 0\n",
    "worst = None\n",
    "for i,b in enumerate(boards):\n",
    "    if board_wins_at(b, calls) > last:\n",
    "        worst = b\n",
    "        last = board_wins_at(b, calls)\n",
    "\n",
    "print(worst)\n",
    "        \n",
    "score(worst, calls)"
   ]
  },
  {
   "cell_type": "code",
   "execution_count": 19,
   "metadata": {},
   "outputs": [
    {
     "name": "stdout",
     "output_type": "stream",
     "text": [
      "5092\n"
     ]
    }
   ],
   "source": [
    "# 5 - counting vents\n",
    "import collections\n",
    "with open('/Users/sherwoodhachtman/Downloads/input5.txt') as response:\n",
    "    content = response.read()\n",
    "    \n",
    "nums = [int(n) for n in content.replace('\\n', ',').replace(' -> ', ',').split(',')[:-1]]\n",
    "\n",
    "vents = [[(nums[i],nums[i+1]), (nums[i+2], nums[i+3])] for i in range(0, len(nums), 4)]\n",
    "\n",
    "count = collections.defaultdict(int)\n",
    "\n",
    "for [(a,b),(x,y)] in vents:\n",
    "    if a == x:\n",
    "        i = min(b,y)\n",
    "        while i <= max(b,y):\n",
    "            count[(a,i)] += 1\n",
    "            i += 1\n",
    "    elif b == y:\n",
    "        i = min(a,x)\n",
    "        while i <= max(a,x):\n",
    "            count[(i,b)] += 1\n",
    "            i += 1\n",
    "\n",
    "print(len([b for b in count if count[b] > 1]))"
   ]
  },
  {
   "cell_type": "code",
   "execution_count": 20,
   "metadata": {},
   "outputs": [
    {
     "name": "stdout",
     "output_type": "stream",
     "text": [
      "20484\n"
     ]
    }
   ],
   "source": [
    "def sign(n):\n",
    "    if n > 0:\n",
    "        return 1\n",
    "    if n < 0:\n",
    "        return -1\n",
    "    else:\n",
    "        return 0\n",
    "\n",
    "count = collections.defaultdict(int)\n",
    "for [(x_1, y_1), (x_2, y_2)] in vents:\n",
    "    delta_x = sign(x_2 - x_1)\n",
    "    delta_y = sign(y_2 - y_1)\n",
    "    d_x, d_y = 0, 0\n",
    "    count[(x_1, y_1)] += 1\n",
    "    while (x_1 + d_x, y_1 + d_y) != (x_2, y_2):\n",
    "        d_x += delta_x\n",
    "        d_y += delta_y\n",
    "        count[(x_1 + d_x, y_1 + d_y)] += 1\n",
    "print(len([b for b in count if count[b] > 1]))"
   ]
  },
  {
   "cell_type": "code",
   "execution_count": 21,
   "metadata": {},
   "outputs": [
    {
     "name": "stdout",
     "output_type": "stream",
     "text": [
      "[3, 5, 1, 5, 3, 2, 1, 3, 4, 2]\n",
      "[1, 5, 5, 1, 4, 4, 3, 5, 4, 4]\n"
     ]
    }
   ],
   "source": [
    "#6. Lanternfish\n",
    "\n",
    "import collections \n",
    "with open('/Users/sherwoodhachtman/Downloads/input6.txt') as response:\n",
    "    content = response.read()\n",
    "    \n",
    "fishes = [int(i) for i in content.split(',')]\n",
    "print(fishes[:10])\n",
    "print(fishes[-10:])\n",
    "\n",
    "def increment(census):\n",
    "    count = collections.defaultdict(int)\n",
    "    for i in range(1, 9):\n",
    "        count[i-1] += census[i]\n",
    "    count[6] += census[0]\n",
    "    count[8] = census[0]\n",
    "    return count"
   ]
  },
  {
   "cell_type": "code",
   "execution_count": 22,
   "metadata": {},
   "outputs": [
    {
     "name": "stdout",
     "output_type": "stream",
     "text": [
      "1595779846729\n"
     ]
    }
   ],
   "source": [
    "census = collections.Counter(fishes)\n",
    "\n",
    "for i in range(256):\n",
    "    census = increment(census)\n",
    "\n",
    "print(sum(census.values()))"
   ]
  },
  {
   "cell_type": "code",
   "execution_count": 23,
   "metadata": {},
   "outputs": [],
   "source": [
    "#7. Crabs\n",
    "\n",
    "import collections \n",
    "with open('/Users/sherwoodhachtman/Downloads/input7.txt') as response:\n",
    "    content = response.read()\n",
    "\n",
    "# content = '16,1,2,0,4,2,7,1,2,14'\n",
    "\n",
    "posns = [int(c) for c in content.split(',')]"
   ]
  },
  {
   "cell_type": "code",
   "execution_count": 24,
   "metadata": {},
   "outputs": [
    {
     "data": {
      "text/plain": [
       "359648"
      ]
     },
     "execution_count": 24,
     "metadata": {},
     "output_type": "execute_result"
    }
   ],
   "source": [
    "# part 1\n",
    "rn = list(range(min(posns), max(posns)+1))\n",
    "costs = [sum([abs(p-m) for p in posns]) for m in rn]\n",
    "min(costs)"
   ]
  },
  {
   "cell_type": "code",
   "execution_count": 25,
   "metadata": {},
   "outputs": [
    {
     "data": {
      "text/plain": [
       "100727924"
      ]
     },
     "execution_count": 25,
     "metadata": {},
     "output_type": "execute_result"
    }
   ],
   "source": [
    "# part 2\n",
    "costs = [sum([abs(p-m)*(abs(p-m)+1)//2 for p in posns]) for m in rn]\n",
    "min(costs)"
   ]
  },
  {
   "cell_type": "code",
   "execution_count": 26,
   "metadata": {},
   "outputs": [],
   "source": [
    "# 8. digits\n",
    "\n",
    "import collections \n",
    "with open('/Users/sherwoodhachtman/Downloads/input8.txt') as response:\n",
    "    content = response.read()\n",
    "    \n",
    "digits = {0:'abcefg', 1:'cf', 2:'acdeg', 3:'acdfg', 4:'bcdf', \\\n",
    "          5:'abdfg', 6:'abdefg', 7:'acf', 8:'abcdefg', 9:'abcdfg'}\n",
    "display_to_num = {digits[key]:str(key) for key in digits}\n",
    "\n",
    "lines = content.split('\\n')[:-1]"
   ]
  },
  {
   "cell_type": "code",
   "execution_count": 27,
   "metadata": {},
   "outputs": [
    {
     "name": "stdout",
     "output_type": "stream",
     "text": [
      "476\n"
     ]
    }
   ],
   "source": [
    "# part 1\n",
    "count = 0\n",
    "for line in lines:\n",
    "    right = line.split(' | ')[1]\n",
    "    for item in right.split(' '):\n",
    "        if len(item) in (2,4,3,7):\n",
    "            count += 1\n",
    "print(count)"
   ]
  },
  {
   "cell_type": "code",
   "execution_count": 28,
   "metadata": {},
   "outputs": [],
   "source": [
    "# part 2\n",
    "import itertools\n",
    "\n",
    "def cipher(word, perm):\n",
    "    perm = {'abcdefg'[i]:perm[i] for i in range(7)}\n",
    "    return ''.join(sorted([perm[char] for char in word]))\n",
    "\n",
    "def decode(line):\n",
    "    line_scramble = set(''.join(sorted(string)) for string in line.split(' | ')[0].split(' '))\n",
    "    for p in itertools.permutations('abcdefg'):\n",
    "        if all(cipher(word, p) in digits.values() for word in line_scramble):\n",
    "            return p\n",
    "    return None"
   ]
  },
  {
   "cell_type": "code",
   "execution_count": 29,
   "metadata": {},
   "outputs": [
    {
     "name": "stdout",
     "output_type": "stream",
     "text": [
      "1011823\n"
     ]
    }
   ],
   "source": [
    "result = 0\n",
    "for line in lines:\n",
    "    [left, right] = line.split(' | ')\n",
    "    perm = decode(left)\n",
    "    num = int(''.join([display_to_num[cipher(word, perm)] for word in right.split(' ')]))\n",
    "    result += num\n",
    "print(result)"
   ]
  },
  {
   "cell_type": "code",
   "execution_count": 30,
   "metadata": {},
   "outputs": [
    {
     "name": "stdout",
     "output_type": "stream",
     "text": [
      "575\n"
     ]
    }
   ],
   "source": [
    "# 9. \n",
    "\n",
    "import collections\n",
    "with open('/Users/sherwoodhachtman/Downloads/input9.txt') as d:\n",
    "    content = d.read()\n",
    "\n",
    "rows = content.split('\\n')[:-1]\n",
    "risks = 0\n",
    "\n",
    "def adj(i,j,rows):\n",
    "    return [pair for pair in [(i-1,j),(i+1,j),(i,j-1),(i,j+1)]\\\n",
    "            if 0<=pair[0]<len(rows) and 0<=pair[1]<len(rows[0])]\n",
    "\n",
    "def is_min(i,j,rows):\n",
    "    return all(rows[i][j] < rows[h][k] for (h,k) in adj(i,j,rows))\n",
    "\n",
    "for i,row in enumerate(rows):\n",
    "    for j,h in enumerate(row):\n",
    "        if is_min(i,j,rows):\n",
    "            risks += int(h)+1\n",
    "                        \n",
    "print(risks)"
   ]
  },
  {
   "cell_type": "code",
   "execution_count": 31,
   "metadata": {},
   "outputs": [],
   "source": [
    "# part 2\n",
    "# idea is to find all local minima, then for each, find the largest\n",
    "# basin containing it.\n",
    "# can be determined by iteratively adding adjacent nodes that 'flow'\n",
    "# entirely towards that min.\n",
    "# to this end - define a function `sinks` that starts at a point, \n",
    "# and finds all endpoints of downwards flow."
   ]
  },
  {
   "cell_type": "code",
   "execution_count": 32,
   "metadata": {},
   "outputs": [],
   "source": [
    "def sinks(i,j,rows):\n",
    "    flows_to = set([(i,j)])\n",
    "    while any([rows[c][d] < rows[a][b] and (c,d) not in flows_to \\\n",
    "              for (a,b) in flows_to for (c,d) in adj(a,b,rows)]):\n",
    "        flows_to |= set([(c,d) for (a,b)\\\n",
    "                        in flows_to for (c,d) in adj(a,b,rows) \\\n",
    "                         if rows[c][d] < rows[a][b]])\n",
    "    return set([(a,b) for (a,b) in flows_to if is_min(a,b,rows)])\n",
    "\n",
    "def basin(i,j,rows):\n",
    "    flows_to = set([(i,j)])\n",
    "    next_set = True\n",
    "    while next_set:\n",
    "        next_set = set([(c,d) for (a,b) in flows_to for (c,d)\\\n",
    "                       in adj(a,b,rows) if sinks(c,d,rows) == set([(i,j)])\\\n",
    "                       and (c,d) not in flows_to and rows[c][d]!='9'])\n",
    "        flows_to |= next_set\n",
    "    return flows_to\n",
    "        "
   ]
  },
  {
   "cell_type": "code",
   "execution_count": 33,
   "metadata": {},
   "outputs": [
    {
     "name": "stdout",
     "output_type": "stream",
     "text": [
      "[99, 100, 103]\n",
      "1019700\n"
     ]
    }
   ],
   "source": [
    "basins = []\n",
    "for i, row in enumerate(rows):\n",
    "    for j, h in enumerate(row):\n",
    "        if is_min(i,j,rows):\n",
    "            basins.append(len(basin(i,j,rows)))\n",
    "\n",
    "result = sorted(basins)[-3:]\n",
    "print(result)\n",
    "r = 1\n",
    "for i in result:\n",
    "    r *= i\n",
    "print(r)"
   ]
  },
  {
   "cell_type": "code",
   "execution_count": 34,
   "metadata": {},
   "outputs": [],
   "source": [
    "# 10. parens\n",
    "\n",
    "import statistics\n",
    "with open('/Users/sherwoodhachtman/Downloads/input10.txt') as d:\n",
    "    content = d.read()\n",
    "rows = content.split('\\n')[:-1]"
   ]
  },
  {
   "cell_type": "code",
   "execution_count": 35,
   "metadata": {},
   "outputs": [
    {
     "name": "stdout",
     "output_type": "stream",
     "text": [
      "413733\n",
      "3354640192\n"
     ]
    }
   ],
   "source": [
    "score = {')':3, ']':57, '}':1197, '>':25137}\n",
    "a_score = {')':1, ']':2, '}':3, '>':4}\n",
    "left = {st[1]:st[0] for st in ['()', '[]', '{}', '<>']}\n",
    "right = {st[0]:st[1] for st in ['()', '[]', '{}', '<>']}\n",
    "total = 0\n",
    "\n",
    "auto_scores = []\n",
    "\n",
    "for row in rows:\n",
    "    corrupt = False\n",
    "    stack = []\n",
    "    for char in row:\n",
    "        if char in '([{<':\n",
    "            stack.append(char)\n",
    "        else:\n",
    "            if stack and left[char] == stack[-1]:\n",
    "                stack.pop()\n",
    "            else:\n",
    "                total += score[char]\n",
    "                corrupt = True\n",
    "                break\n",
    "    if not corrupt:\n",
    "        sc = 0\n",
    "        while stack:\n",
    "            sc = 5*sc\n",
    "            sc += a_score[right[stack.pop()]]\n",
    "        auto_scores.append(sc)\n",
    "                \n",
    "print(total)\n",
    "print(statistics.median(auto_scores))"
   ]
  },
  {
   "cell_type": "code",
   "execution_count": 36,
   "metadata": {},
   "outputs": [],
   "source": [
    "#11. caves - improved\n",
    "\n",
    "with open('/Users/sherwoodhachtman/Downloads/input12.txt') as d:\n",
    "    content = d.read()\n",
    "rows = content.split('\\n')[:-1]\n",
    "\n",
    "import collections\n",
    "nbrs = collections.defaultdict(set)\n",
    "for r in rows:\n",
    "    for i in range(2):\n",
    "        nbrs[r.split('-')[i]].add(r.split('-')[1-i])\n",
    "    \n",
    "def is_legal(path):\n",
    "    if path[-1] == 'start':\n",
    "        return len(path) == 1\n",
    "    elif path[-2] == 'end':\n",
    "        return False\n",
    "    elif path[-1].islower():\n",
    "        return small_cave_condition(path)\n",
    "    else:\n",
    "        return True\n",
    "    \n",
    "def count_complete_paths(nbrs):\n",
    "    known_paths = set([('start',)])\n",
    "    new_paths = True\n",
    "    while new_paths:\n",
    "        new_paths = set([\n",
    "            p + (node,) for p in known_paths \\\n",
    "                   for node in nbrs[p[-1]] if p + (node,) not in known_paths \\\n",
    "                                            and is_legal(p + (node,)) \\\n",
    "        ])\n",
    "        known_paths |= new_paths\n",
    "    return len([p for p in known_paths if p[-1] == 'end'])"
   ]
  },
  {
   "cell_type": "code",
   "execution_count": 37,
   "metadata": {},
   "outputs": [
    {
     "name": "stdout",
     "output_type": "stream",
     "text": [
      "3708\n",
      "93858\n",
      "CPU times: user 18.3 s, sys: 172 ms, total: 18.5 s\n",
      "Wall time: 18.7 s\n"
     ]
    }
   ],
   "source": [
    "%%time\n",
    "# part 1:\n",
    "def small_cave_condition(path):\n",
    "    return path[-1] not in path[:-1]\n",
    "print(count_complete_paths(nbrs))\n",
    "\n",
    "# part 2:\n",
    "def small_cave_condition(path):\n",
    "    small_caves = [p for p in path if p.islower()]\n",
    "    counts = list(collections.Counter(small_caves).values())\n",
    "    return counts.count(3) == 0 and counts.count(2) <= 1\n",
    "print(count_complete_paths(nbrs))"
   ]
  },
  {
   "cell_type": "code",
   "execution_count": 38,
   "metadata": {},
   "outputs": [],
   "source": [
    "# old caves - a bit inelegant maybe\n",
    "#part 2 repeats some code\n",
    "\n",
    "# def is_legal(path):\n",
    "#     if path[-1] == 'start':\n",
    "#         return len(path) == 1\n",
    "#     elif path[-1].islower():\n",
    "#         return path.count([-1] not in path[:-1]\n",
    "#     else:\n",
    "#         return path[-2] != 'end'\n",
    "    \n",
    "\n",
    "# known_paths = set([('start',)])\n",
    "# new_paths = True\n",
    "# while new_paths:\n",
    "#     new_paths = set([\n",
    "#         p + (node,) for p in known_paths \\\n",
    "#                    for node in nbrs[p[-1]] if is_legal(p + (node,)) \\\n",
    "#                                             and p + (node,) not in known_paths\n",
    "#     ])\n",
    "#     known_paths |= new_paths\n",
    "\n",
    "# print(len([p for p in known_paths if p[-1] == 'end']))"
   ]
  },
  {
   "cell_type": "code",
   "execution_count": 39,
   "metadata": {},
   "outputs": [
    {
     "name": "stdout",
     "output_type": "stream",
     "text": [
      "19\n"
     ]
    }
   ],
   "source": [
    "#12. tickets and paths\n",
    "\n",
    "with open('/Users/sherwoodhachtman/Downloads/input12.txt') as d:\n",
    "    content = d.read()\n",
    "rows = content.split('\\n')[:-1]\n",
    "\n",
    "print(len(rows))\n",
    "\n",
    "\n",
    "test = \"\"\"fs-end\n",
    "he-DX\n",
    "fs-he\n",
    "start-DX\n",
    "pj-DX\n",
    "end-zg\n",
    "zg-sl\n",
    "zg-pj\n",
    "pj-he\n",
    "RW-he\n",
    "fs-DX\n",
    "pj-RW\n",
    "zg-RW\n",
    "start-pj\n",
    "he-WI\n",
    "zg-he\n",
    "pj-fs\n",
    "start-RW\"\"\"\n",
    "\n",
    "\n",
    "#rows = test.split('\\n')\n",
    "# recursively:\n",
    "# paths that end at X are\n",
    "# paths that get to a predecessor of X, and\n",
    "# if X is lower case, only those that have not visited lowercase yet."
   ]
  },
  {
   "cell_type": "code",
   "execution_count": 40,
   "metadata": {},
   "outputs": [],
   "source": [
    "# part 1\n",
    "import collections\n",
    "p = collections.defaultdict(set)\n",
    "\n",
    "for row in rows:\n",
    "    [l,r] = row.split('-')\n",
    "    p[r].add(l)\n",
    "    p[l].add(r)\n",
    "    \n",
    "paths_that_end_at = collections.defaultdict(list)\n",
    "    \n",
    "def populate(node, length):\n",
    "    if length == 0:\n",
    "        return []\n",
    "    if length == 1:\n",
    "        if node == 'start':\n",
    "            paths_that_end_at[('start',1)] = [['start']]\n",
    "        else:\n",
    "            paths_that_end_at[(node,1)] = []\n",
    "    elif node.islower():\n",
    "        paths_that_end_at[(node,length)] = [path + [node] for pr in p[node] \\\n",
    "                                            for path in paths_that_end_at[(pr, length-1)] if node not in path\\\n",
    "                                            and path[-1] != 'end']\n",
    "    else:\n",
    "        paths_that_end_at[(node,length)] = [path + [node] for pr in p[node] \\\n",
    "                                            for path in paths_that_end_at[(pr, length-1)] if path[-1] != 'end']\n",
    "    return paths_that_end_at[(node,length)]"
   ]
  },
  {
   "cell_type": "code",
   "execution_count": 41,
   "metadata": {},
   "outputs": [],
   "source": [
    "def path_is_legal(path):\n",
    "    tracking = set()\n",
    "    for node in path:\n",
    "        if node.islower():\n",
    "            if node in tracking:\n",
    "                return False\n",
    "            tracking.add(node)\n",
    "    return True"
   ]
  },
  {
   "cell_type": "code",
   "execution_count": 42,
   "metadata": {},
   "outputs": [
    {
     "name": "stdout",
     "output_type": "stream",
     "text": [
      "0 0 0\n",
      "1 0 0\n",
      "2 0 0\n",
      "3 0 0\n",
      "4 5 5\n",
      "5 15 20\n",
      "6 36 56\n",
      "7 80 136\n",
      "8 162 298\n",
      "9 293 591\n",
      "10 460 1051\n",
      "11 636 1687\n",
      "12 681 2368\n",
      "13 648 3016\n",
      "14 440 3456\n",
      "15 252 3708\n",
      "16 0 3708\n",
      "17 0 3708\n",
      "18 0 3708\n",
      "19 0 3708\n"
     ]
    }
   ],
   "source": [
    "total_so_far = 0\n",
    "for i in range(20):\n",
    "    for key in p:\n",
    "        populate(key,i)\n",
    "    a = len(paths_that_end_at[('end', i)])\n",
    "    total_so_far += a\n",
    "    print(i, a, total_so_far)"
   ]
  },
  {
   "cell_type": "code",
   "execution_count": 43,
   "metadata": {},
   "outputs": [],
   "source": [
    "# part 2\n",
    "import collections\n",
    "p = collections.defaultdict(set)\n",
    "\n",
    "for row in rows:\n",
    "    [l,r] = row.split('-')\n",
    "    p[r].add(l)\n",
    "    p[l].add(r)\n",
    "    \n",
    "paths_that_end_at = collections.defaultdict(list)\n",
    "\n",
    "def path_has_double_node(path):\n",
    "    thing = collections.defaultdict(int)\n",
    "    for k in path:\n",
    "        if k.islower():\n",
    "            thing[k] += 1\n",
    "    return [thing[k] > 1 for k in thing]\n",
    "\n",
    "def path_is_legal(path):\n",
    "    ct = collections.Counter(path)\n",
    "    if any(ct[k] > 2 for k in ct if k.islower()):\n",
    "        return False\n",
    "    doubles = [node for node in ct if ct[node] == 2 and node.islower()]\n",
    "    return len(doubles) < 2\n",
    "    \n",
    "            \n",
    "\n",
    "def populate(node, length):\n",
    "    if length == 0:\n",
    "        return []\n",
    "    if length == 1:\n",
    "        if node == 'start':\n",
    "            paths_that_end_at[('start',1)] = [['start']]\n",
    "        else:\n",
    "            paths_that_end_at[(node,1)] = []\n",
    "    elif node == 'start':\n",
    "        return []\n",
    "    elif node.islower():\n",
    "        paths_that_end_at[(node,length)] = [path + [node] for pr in p[node] \\\n",
    "                                            for path in paths_that_end_at[(pr, length-1)] \\\n",
    "                                            if path_is_legal(path+[node])\n",
    "                                            and path[-1] != 'end']\n",
    "    else:\n",
    "        paths_that_end_at[(node,length)] = [path + [node] for pr in p[node] \\\n",
    "                                            for path in paths_that_end_at[(pr, length-1)] if path[-1] != 'end']\n",
    "    return paths_that_end_at[(node,length)]"
   ]
  },
  {
   "cell_type": "code",
   "execution_count": 44,
   "metadata": {},
   "outputs": [
    {
     "name": "stdout",
     "output_type": "stream",
     "text": [
      "0 0 0\n",
      "1 0 0\n",
      "2 0 0\n",
      "3 0 0\n",
      "4 5 5\n",
      "5 15 20\n",
      "6 53 73\n",
      "7 168 241\n",
      "8 485 726\n",
      "9 1259 1985\n",
      "10 2907 4892\n",
      "11 5902 10794\n",
      "12 10407 21201\n",
      "13 15484 36685\n",
      "14 18203 54888\n",
      "15 18178 73066\n",
      "16 13592 86658\n",
      "17 7200 93858\n",
      "18 0 93858\n",
      "19 0 93858\n"
     ]
    }
   ],
   "source": [
    "total_so_far = 0\n",
    "for i in range(20):\n",
    "    for key in p:\n",
    "        populate(key,i)\n",
    "    a = len(paths_that_end_at[('end', i)])\n",
    "    total_so_far += a\n",
    "    print(i, a, total_so_far)"
   ]
  },
  {
   "cell_type": "code",
   "execution_count": 45,
   "metadata": {},
   "outputs": [],
   "source": [
    "#11. dumbo octo\n",
    "\n",
    "import itertools\n",
    "\n",
    "with open('/Users/sherwoodhachtman/Downloads/input11.txt') as d:\n",
    "    content = d.read()\n",
    "\n",
    "# content = \"\"\"5483143223\n",
    "# 2745854711\n",
    "# 5264556173\n",
    "# 6141336146\n",
    "# 6357385478\n",
    "# 4167524645\n",
    "# 2176841721\n",
    "# 6882881134\n",
    "# 4846848554\n",
    "# 5283751526\n",
    "# \"\"\"\n",
    "\n",
    "rows = content.split('\\n')[:-1]\n",
    "\n"
   ]
  },
  {
   "cell_type": "code",
   "execution_count": 46,
   "metadata": {},
   "outputs": [],
   "source": [
    "def adj(x,y,grid):\n",
    "    return [[u,v] for u,v in itertools.product(range(x-1,x+2), range(y-1,y+2)) \\\n",
    "            if 0 <= u < len(grid) and 0 <= v < len(grid[0])\\\n",
    "            and (u,v) != (x,y)]"
   ]
  },
  {
   "cell_type": "code",
   "execution_count": 47,
   "metadata": {
    "scrolled": true
   },
   "outputs": [
    {
     "data": {
      "text/plain": [
       "['1564524226',\n",
       " '1384554685',\n",
       " '7582264835',\n",
       " '8812672272',\n",
       " '1161463137',\n",
       " '7831762344',\n",
       " '2855527748',\n",
       " '6141737874',\n",
       " '8611458313',\n",
       " '8215372443']"
      ]
     },
     "execution_count": 47,
     "metadata": {},
     "output_type": "execute_result"
    }
   ],
   "source": [
    "rows"
   ]
  },
  {
   "cell_type": "code",
   "execution_count": 48,
   "metadata": {},
   "outputs": [],
   "source": [
    "def flash(grid,i,j):\n",
    "    for [x,y] in adj(i,j,grid):\n",
    "        grid[x][y] += 1\n",
    "        if grid[x][y] == 10:\n",
    "            flash(grid,x,y)\n",
    "\n",
    "def increment(grid):\n",
    "    for i,j in itertools.product(range(len(grid)), range(len(grid[0]))):\n",
    "        grid[i][j] += 1\n",
    "        if grid[i][j] == 10:\n",
    "            flash(grid,i,j)\n",
    "    for i,j in itertools.product(range(len(grid)), range(len(grid[0]))):\n",
    "        if grid[i][j] > 9:\n",
    "            grid[i][j] = 0     "
   ]
  },
  {
   "cell_type": "code",
   "execution_count": 49,
   "metadata": {},
   "outputs": [
    {
     "data": {
      "text/plain": [
       "1732"
      ]
     },
     "execution_count": 49,
     "metadata": {},
     "output_type": "execute_result"
    }
   ],
   "source": [
    "flash_count=0\n",
    "grid = [[int(ch) for ch in row] for row in rows]\n",
    "for i in range(100):\n",
    "    increment(grid)\n",
    "    flash_count += sum(len([i for i in row if i == 0]) for row in grid)\n",
    "flash_count"
   ]
  },
  {
   "cell_type": "code",
   "execution_count": 50,
   "metadata": {},
   "outputs": [
    {
     "name": "stdout",
     "output_type": "stream",
     "text": [
      "290\n"
     ]
    }
   ],
   "source": [
    "# part 2\n",
    "i = 0\n",
    "grid = [[int(ch) for ch in row] for row in rows]\n",
    "while True:\n",
    "    increment(grid)\n",
    "    i += 1\n",
    "    if all(all(i==0 for i in row) for row in grid):\n",
    "        print(i)\n",
    "        break"
   ]
  },
  {
   "cell_type": "code",
   "execution_count": 51,
   "metadata": {},
   "outputs": [],
   "source": [
    "#day 13\n",
    "with open('/Users/sherwoodhachtman/Downloads/input13.txt') as d:\n",
    "    content = d.read()\n",
    "    \n",
    "rows = content.split('\\n')[:-1]"
   ]
  },
  {
   "cell_type": "code",
   "execution_count": 52,
   "metadata": {
    "scrolled": true
   },
   "outputs": [],
   "source": [
    "i = rows.index('')\n",
    "holes = set([(int(a),int(b)) for row in rows[:i] for [a,b] in [row.split(',')]])\n",
    "\n",
    "j = rows[i+1].index('=')\n",
    "folds = [(row[j-1], int(row[j+1:])) for row in rows[i+1:]]"
   ]
  },
  {
   "cell_type": "code",
   "execution_count": 53,
   "metadata": {},
   "outputs": [
    {
     "data": {
      "text/plain": [
       "842"
      ]
     },
     "execution_count": 53,
     "metadata": {},
     "output_type": "execute_result"
    }
   ],
   "source": [
    "# part 1\n",
    "def fold(holes,axis,seam):\n",
    "    b = int(axis=='x')\n",
    "    new_holes = set()\n",
    "    for p in holes:\n",
    "        if p[1-b] < seam:\n",
    "            new_holes.add(p)\n",
    "        else:\n",
    "            q = (p[b],2*seam-p[1-b])\n",
    "            new_holes.add((q[b],q[1-b]))\n",
    "    return new_holes\n",
    "\n",
    "len(fold(holes,*folds[0]))"
   ]
  },
  {
   "cell_type": "code",
   "execution_count": 54,
   "metadata": {},
   "outputs": [
    {
     "name": "stdout",
     "output_type": "stream",
     "text": [
      "######\n",
      "#.#..#\n",
      "#.#..#\n",
      ".#.##.\n",
      "......\n",
      "######\n",
      "#.#...\n",
      "#.#...\n",
      "#.....\n",
      "......\n",
      "######\n",
      "..#...\n",
      ".#.##.\n",
      "#....#\n",
      "......\n",
      "######\n",
      "#..#..\n",
      "#..##.\n",
      ".##..#\n",
      "......\n",
      ".####.\n",
      "#....#\n",
      "#....#\n",
      ".#..#.\n",
      "......\n",
      "....#.\n",
      ".....#\n",
      "#....#\n",
      "#####.\n",
      "......\n",
      "#...##\n",
      "#..#.#\n",
      "#.#..#\n",
      "##...#\n",
      "......\n",
      "#####.\n",
      ".....#\n",
      ".....#\n",
      "#####.\n"
     ]
    }
   ],
   "source": [
    "# part 2\n",
    "def display(holes):\n",
    "    x_max = max(x+1 for (x,y) in holes)\n",
    "    y_max = max(y+1 for (x,y) in holes)\n",
    "    grid = [['.']*y_max for i in range(x_max)]\n",
    "    for (x,y) in holes:\n",
    "        grid[x][y] = '#'\n",
    "    for row in grid:\n",
    "        print(''.join(row))\n",
    "\n",
    "for i,(axis, seam) in enumerate(folds):\n",
    "    holes = fold(holes,axis,seam)\n",
    "\n",
    "display(holes)"
   ]
  },
  {
   "cell_type": "code",
   "execution_count": 55,
   "metadata": {},
   "outputs": [
    {
     "name": "stdout",
     "output_type": "stream",
     "text": [
      "###..####.#..#.###...##....##.####.#..#\n",
      "#..#.#....#.#..#..#.#..#....#....#.#..#\n",
      "###..###..##...#..#.#.......#...#..#..#\n",
      "#..#.#....#.#..###..#.......#..#...#..#\n",
      "#..#.#....#.#..#.#..#..#.#..#.#....#..#\n",
      "###..#....#..#.#..#..##...##..####..##.\n"
     ]
    }
   ],
   "source": [
    "# since the display turns out to be transposed\n",
    "display({(y,x) for (x,y) in holes})"
   ]
  },
  {
   "cell_type": "code",
   "execution_count": 56,
   "metadata": {},
   "outputs": [],
   "source": [
    "#day 14\n",
    "\n",
    "from itertools import zip_longest\n",
    "\n",
    "with open('/Users/sherwoodhachtman/Downloads/input14.txt') as d:\n",
    "    content = d.read()\n",
    "    \n",
    "rows = content.split('\\n')[:-1]\n",
    "\n",
    "start = rows[0]\n",
    "insert_at = {u[0]:u[1] for row in rows[2:] for u in [row.split(' -> ')]}"
   ]
  },
  {
   "cell_type": "code",
   "execution_count": 57,
   "metadata": {},
   "outputs": [
    {
     "name": "stdout",
     "output_type": "stream",
     "text": [
      "3555\n"
     ]
    }
   ],
   "source": [
    "# part 1\n",
    "def step(s, rules):\n",
    "    interleave = ''.join([insert_at[s[i:i+2]] for i in range(len(s)-1)])\n",
    "    return ''.join(i + j for i,j in zip_longest(s, interleave, fillvalue=''))\n",
    "\n",
    "polymer = start\n",
    "for i in range(10):\n",
    "    polymer = step(polymer, insert_at)\n",
    "counts = collections.Counter(polymer)\n",
    "print(max(counts.values())-min(counts.values()))"
   ]
  },
  {
   "cell_type": "code",
   "execution_count": 58,
   "metadata": {},
   "outputs": [
    {
     "name": "stdout",
     "output_type": "stream",
     "text": [
      "4439442043739\n"
     ]
    }
   ],
   "source": [
    "# part 2: only need to count adjacent pairs. \n",
    "# each element gets counted twice except for the left and right\n",
    "# endpoints of the string.\n",
    "pair_count = collections.defaultdict(int)\n",
    "left = start[:2]\n",
    "right = start[-2:]\n",
    "for i in range(len(start)-1):\n",
    "    pair_count[start[i:i+2]] += 1\n",
    "\n",
    "def p_step(counter, left, right, rules):\n",
    "    next_counter = collections.defaultdict(int)\n",
    "    left_res = left[0] + rules[left]\n",
    "    right_res = rules[right] + right[1]\n",
    "    for pair in counter:\n",
    "        a,c = pair[0],pair[1]\n",
    "        b = rules[pair]\n",
    "        next_counter[a+b] += counter[pair]\n",
    "        next_counter[b+c] += counter[pair]\n",
    "    return next_counter, left_res, right_res\n",
    "\n",
    "def count(char, counter):\n",
    "    result = 0\n",
    "    for key in counter:\n",
    "        for i in range(2):\n",
    "            if key[i]==char:\n",
    "                result += counter[key]\n",
    "    return result//2\n",
    "\n",
    "for _ in range(40):\n",
    "    pair_count, left, right = p_step(pair_count, left, right, insert_at)\n",
    "\n",
    "char_counter = {ch:count(ch, pair_count) for key in pair_count for ch in key}\n",
    "char_counter[left[0]] += 1\n",
    "char_counter[right[1]] += 1\n",
    "\n",
    "print(max(char_counter.values())-min(char_counter.values()))"
   ]
  },
  {
   "cell_type": "code",
   "execution_count": 59,
   "metadata": {},
   "outputs": [
    {
     "name": "stdout",
     "output_type": "stream",
     "text": [
      "508\n"
     ]
    }
   ],
   "source": [
    "#15 chiton\n",
    "\n",
    "with open('/Users/sherwoodhachtman/Downloads/input15.txt') as d:\n",
    "    content = d.read()\n",
    "\n",
    "# content = \"\"\"1163751742\n",
    "# 1381373672\n",
    "# 2136511328\n",
    "# 3694931569\n",
    "# 7463417111\n",
    "# 1319128137\n",
    "# 1359912421\n",
    "# 3125421639\n",
    "# 1293138521\n",
    "# 2311944581\n",
    "# \"\"\"\n",
    "    \n",
    "rows = content.split('\\n')[:-1]\n",
    "\n",
    "risk = [[int(ch) for ch in row] for row in rows]\n",
    "\n",
    "def adj(i,j,rows):\n",
    "    return [pair for pair in [(i-1,j),(i+1,j),(i,j-1),(i,j+1)]\\\n",
    "            if 0<=pair[0]<len(rows) and 0<=pair[1]<len(rows[0])]\n",
    "\n",
    "def dijkstra(risk):\n",
    "    dist = [[float('inf')]*len(risk[0]) for _ in range(len(risk))]\n",
    "    dist[0][0] = risk[0][0]\n",
    "\n",
    "    unvisited = set([(i,j) for i in range(len(risk)) for j in range(len(risk[0]))])\n",
    "    \n",
    "    next_nodes = {(0,0)}\n",
    "\n",
    "    while (len(risk)-1, len(risk[0])-1) in unvisited:\n",
    "        current = min(next_nodes, key=lambda node: dist[node[0]][node[1]])\n",
    "        next_nodes.discard(current)\n",
    "        (i,j) = current\n",
    "        for (x,y) in adj(i,j,risk):\n",
    "            if (x,y) in unvisited:\n",
    "                dist[x][y] = min(dist[x][y], risk[x][y] + dist[i][j])\n",
    "                next_nodes.add((x,y))\n",
    "        unvisited.discard((i,j))\n",
    "\n",
    "    return dist\n",
    "\n",
    "dist = dijkstra(risk)\n",
    "print(dist[-1][-1]-dist[0][0])"
   ]
  },
  {
   "cell_type": "code",
   "execution_count": 60,
   "metadata": {},
   "outputs": [],
   "source": [
    "def expand_right(row,n):\n",
    "    return [(r+i)%9 if r+i>9 else r+i for i in range(n) for r in row]\n",
    "\n",
    "def transpose(grid):\n",
    "    return [[grid[i][j] for i in range(len(grid))] for j in range(len(grid[0]))]\n",
    "\n",
    "def expand_grid(grid,n):\n",
    "    res = [[r for r in row] for row in grid]\n",
    "    for _ in range(2):\n",
    "        res = transpose([expand_right(row,n) for row in res])\n",
    "    return res"
   ]
  },
  {
   "cell_type": "code",
   "execution_count": 61,
   "metadata": {},
   "outputs": [
    {
     "name": "stdout",
     "output_type": "stream",
     "text": [
      "2872\n"
     ]
    }
   ],
   "source": [
    "expanded_risk = expand_grid(risk,5)\n",
    "expanded_dist = dijkstra(expanded_risk)\n",
    "print(expanded_dist[-1][-1]-expanded_dist[0][0])"
   ]
  },
  {
   "cell_type": "code",
   "execution_count": 62,
   "metadata": {
    "scrolled": true
   },
   "outputs": [
    {
     "name": "stdout",
     "output_type": "stream",
     "text": [
      "A052E04CFD9DC0249694F0A11EA2044E200E9266766AB004A525F86FFCDF4B25DFC401A20043A11C61838600FC678D51B8C0198910EA1200010B3EEA40246C974EF003331006619C26844200D414859049402D9CDA64BDEF3C4E623331FBCCA3E4DFBBFC79E4004DE96FC3B1EC6DE4298D5A1C8F98E45266745B382040191D0034539682F4E5A0B527FEB018029277C88E0039937D8ACCC6256092004165D36586CC013A008625A2D7394A5B1DE16C0E3004A8035200043220C5B838200EC4B8E315A6CEE6F3C3B9FFB8100994200CC59837108401989D056280803F1EA3C41130047003530004323DC3C860200EC4182F1CA7E452C01744A0A4FF6BBAE6A533BFCD1967A26E20124BE1920A4A6A613315511007A4A32BE9AE6B5CAD19E56BA1430053803341007E24C168A6200D46384318A6AAC8401907003EF2F7D70265EFAE04CCAB3801727C9EC94802AF92F493A8012D9EABB48BA3805D1B65756559231917B93A4B4B46009C91F600481254AF67A845BA56610400414E3090055525E849BE8010397439746400BC255EE5362136F72B4A4A7B721004A510A7370CCB37C2BA0010D3038600BE802937A429BD20C90CCC564EC40144E80213E2B3E2F3D9D6DB0803F2B005A731DC6C524A16B5F1C1D98EE006339009AB401AB0803108A12C2A00043A134228AB2DBDA00801EC061B080180057A88016404DA201206A00638014E0049801EC0309800AC20025B20080C600710058A60070003080006A4F566244012C4B204A83CB234C2244120080E6562446669025CD4802DA9A45F004658527FFEC720906008C996700397319DD7710596674004BE6A161283B09C802B0D00463AC9563C2B969F0E080182972E982F9718200D2E637DB16600341292D6D8A7F496800FD490BCDC68B33976A872E008C5F9DFD566490A14\n"
     ]
    }
   ],
   "source": [
    "#16\n",
    "\n",
    "with open('/Users/sherwoodhachtman/Downloads/input16.txt') as d:\n",
    "    content = d.read()\n",
    "\n",
    "# content = \"\"\"38006F45291200\n",
    "#\"\"\"\n",
    "    \n",
    "rows = content.split('\\n')[-2]\n",
    "print(rows)"
   ]
  },
  {
   "cell_type": "code",
   "execution_count": 63,
   "metadata": {},
   "outputs": [
    {
     "name": "stdout",
     "output_type": "stream",
     "text": [
      "{'0': '0000', '1': '0001', '2': '0010', '3': '0011', '4': '0100', '5': '0101', '6': '0110', '7': '0111', '8': '1000', '9': '1001', 'A': '1010', 'B': '1011', 'C': '1100', 'D': '1101', 'E': '1110', 'F': '1111'}\n"
     ]
    }
   ],
   "source": [
    "hexkey=\"\"\"0 = 0000\n",
    "1 = 0001\n",
    "2 = 0010\n",
    "3 = 0011\n",
    "4 = 0100\n",
    "5 = 0101\n",
    "6 = 0110\n",
    "7 = 0111\n",
    "8 = 1000\n",
    "9 = 1001\n",
    "A = 1010\n",
    "B = 1011\n",
    "C = 1100\n",
    "D = 1101\n",
    "E = 1110\n",
    "F = 1111\"\"\"\n",
    "hb = dict()\n",
    "for row in hexkey.split('\\n'):\n",
    "    [a,b] = row.split(' = ')\n",
    "    hb[a] = b\n",
    "print(hb)"
   ]
  },
  {
   "cell_type": "code",
   "execution_count": 64,
   "metadata": {},
   "outputs": [],
   "source": [
    "def hextobin(hexstring):\n",
    "    return ''.join([hb[ch] for ch in hexstring])"
   ]
  },
  {
   "cell_type": "code",
   "execution_count": 65,
   "metadata": {},
   "outputs": [],
   "source": [
    "# what is a packet?\n",
    "# -----------------\n",
    "# first 3 bits: version\n",
    "# next 3 bits: literal (100->4) or operator\n",
    "#  if literal:\n",
    "#    break into segments of length 5 until a segment starts with 0.\n",
    "#    the trailing 4 bits of each segment are concatenated to give the binary rep of a number\n",
    "#.   the remaining bits of the literal up to a power of 2 \n",
    "#  if operator: \n",
    "#    next bit is length type id.\n",
    "#.   if 0: next 15 bits are a number in binary repping total length in bits of the subpackets\n",
    "#.   if 1: next 11 bits represent the number of subpackets immediately contained by this\n",
    "\n",
    "def subpackets(b_string):\n",
    "    if b_string[3:6]=='100':\n",
    "        return [b_string[6:]]\n",
    "    else:\n",
    "        if b_string[6] == '0':\n",
    "            subpacket_length = int(b_string[7:22],2)\n",
    "            # print('len sub {}'.format(subpacket_length))\n",
    "            return [b_string[22:22+subpacket_length], b_string[22+subpacket_length:]]\n",
    "        if b_string[6] == '1':\n",
    "            # print('num sub {}'.format(b_string[7:18]))\n",
    "            number_subpackets = int(b_string[7:18],2)\n",
    "            return [b_string[18:], number_subpackets]"
   ]
  },
  {
   "cell_type": "code",
   "execution_count": 66,
   "metadata": {},
   "outputs": [],
   "source": [
    "def ver(packet):\n",
    "    return int(packet[:3],2)"
   ]
  },
  {
   "cell_type": "code",
   "execution_count": 67,
   "metadata": {},
   "outputs": [],
   "source": [
    "def interpret(packet):\n",
    "    v = ver(packet)\n",
    "    tp = 'lit' if packet[3:6]=='100' else 'op'\n",
    "    if tp == 'lit':\n",
    "        return (v, tp, decode_literal(packet))\n",
    "    else:\n",
    "        lid = 'L' if packet[6]=='0' else 'N'\n",
    "        return (v, tp, lid, subpackets(packet))"
   ]
  },
  {
   "cell_type": "code",
   "execution_count": 68,
   "metadata": {},
   "outputs": [],
   "source": [
    "def decode_literal(b_string):\n",
    "    if b_string[3:6]!='100':\n",
    "        return None\n",
    "    else:\n",
    "        i = 6\n",
    "        result = b_string[i+1:i+5]\n",
    "        while b_string[i] != '0':\n",
    "            i += 5\n",
    "            result = result + b_string[i+1:i+5]\n",
    "        return int(result,2), b_string[i+5:]"
   ]
  },
  {
   "cell_type": "code",
   "execution_count": 69,
   "metadata": {},
   "outputs": [],
   "source": [
    "def parse(packet):\n",
    "#    print('now parsing: ({})'.format(packet))\n",
    "    version = int(packet[:3],2)\n",
    "#    print('version: {}'.format(version))\n",
    "    packet_type = packet[3:6]\n",
    "    if packet_type == '100':\n",
    "        value, tail = decode_literal(packet)\n",
    "    else:\n",
    "        length_id = 'L' if packet[6]=='0' else 'N'\n",
    "#        print('type {}-{}'.format(packet_type, length_id))\n",
    "        if length_id == 'N':\n",
    "            result = []\n",
    "            number_subpackets = int(packet[7:18],2)\n",
    "#            packet_type = 'op-N:{}'.format(number_subpackets)\n",
    "#            print(packet_type)\n",
    "            tail = packet[18:]\n",
    "            while len(result) < number_subpackets:\n",
    "#                print('n subpacket {}'.format(len(result)+1))\n",
    "                result.append(parse(tail))\n",
    "#                print('remaining is {}'.format(result[-1][-1]))\n",
    "                tail = result[-1][-1]\n",
    "            value = tuple(result)\n",
    "        else:\n",
    "            result = []\n",
    "            subpacket_length = int(packet[7:22],2)\n",
    "#            print('length {}'.format(subpacket_length))\n",
    "#            packet_type = 'op-L:{}'.format(subpacket_length)\n",
    "            subpacket = packet[22:22+subpacket_length]\n",
    "            while '1' in subpacket:\n",
    "#                print('1 subpacket {}'.format(subpacket))\n",
    "                value = parse(subpacket)\n",
    "#                print('looking: {}'.format(value))\n",
    "                result.append(value)\n",
    "                subpacket = value[-1]\n",
    "#                print('now subpacket: {} type {}'.format(subpacket, type(subpacket)))\n",
    "            value = tuple(result)\n",
    "            tail = packet[22+subpacket_length:]\n",
    "#    print(version,packet_type,value,tail)\n",
    "    return (version, packet_type, value, tail)"
   ]
  },
  {
   "cell_type": "code",
   "execution_count": 70,
   "metadata": {},
   "outputs": [],
   "source": [
    "def version_sum(parsed_packet):\n",
    "    if parsed_packet[1]=='100':\n",
    "        return parsed_packet[0]\n",
    "    else:\n",
    "        return parsed_packet[0]+sum(version_sum(subpacket) for subpacket in parsed_packet[2])"
   ]
  },
  {
   "cell_type": "code",
   "execution_count": 71,
   "metadata": {},
   "outputs": [
    {
     "data": {
      "text/plain": [
       "(5,\n",
       " '000',\n",
       " ((1,\n",
       "   '000',\n",
       "   ((3,\n",
       "     '000',\n",
       "     ((7, '100', 6, '11010000110101100011000101000111101010001111'),\n",
       "      (6, '100', 6, '101100011000101000111101010001111'),\n",
       "      (5, '100', 12, '0101000111101010001111'),\n",
       "      (2, '100', 15, '01010001111'),\n",
       "      (2, '100', 15, '')),\n",
       "     ''),),\n",
       "   ''),),\n",
       " '0000000')"
      ]
     },
     "execution_count": 71,
     "metadata": {},
     "output_type": "execute_result"
    }
   ],
   "source": [
    "parse(hextobin('A0016C880162017C3686B18A3D4780'))"
   ]
  },
  {
   "cell_type": "code",
   "execution_count": 72,
   "metadata": {},
   "outputs": [
    {
     "data": {
      "text/plain": [
       "31"
      ]
     },
     "execution_count": 72,
     "metadata": {},
     "output_type": "execute_result"
    }
   ],
   "source": [
    "version_sum(parse(hextobin('A0016C880162017C3686B18A3D4780')))"
   ]
  },
  {
   "cell_type": "code",
   "execution_count": 73,
   "metadata": {
    "scrolled": true
   },
   "outputs": [
    {
     "data": {
      "text/plain": [
       "879"
      ]
     },
     "execution_count": 73,
     "metadata": {},
     "output_type": "execute_result"
    }
   ],
   "source": [
    "version_sum(parse(hextobin(rows)))"
   ]
  },
  {
   "cell_type": "code",
   "execution_count": 74,
   "metadata": {},
   "outputs": [],
   "source": [
    "def prod(L):\n",
    "    result = L[0]\n",
    "    for a in L[1:]:\n",
    "        result *= a\n",
    "    return result"
   ]
  },
  {
   "cell_type": "code",
   "execution_count": 75,
   "metadata": {},
   "outputs": [],
   "source": [
    "def evaluate(parsed_packet):\n",
    "    id = int(parsed_packet[1],2)\n",
    "    if id==4:\n",
    "        return parsed_packet[2]\n",
    "    subpackets = [evaluate(pp) for pp in parsed_packet[2]]\n",
    "    if id==0:\n",
    "        return sum(subpackets)\n",
    "    if id==1:\n",
    "        return prod(subpackets)\n",
    "    if id==2:\n",
    "        return min(subpackets)\n",
    "    if id==3:\n",
    "        return max(subpackets)\n",
    "    if id==5:\n",
    "        return int(subpackets[0] > subpackets[1])\n",
    "    if id==6:\n",
    "        return int(subpackets[0] < subpackets[1])\n",
    "    if id==7:\n",
    "        return int(subpackets[0] == subpackets[1])"
   ]
  },
  {
   "cell_type": "code",
   "execution_count": 76,
   "metadata": {},
   "outputs": [
    {
     "data": {
      "text/plain": [
       "539051801941"
      ]
     },
     "execution_count": 76,
     "metadata": {},
     "output_type": "execute_result"
    }
   ],
   "source": [
    "evaluate(parse(hextobin(rows)))"
   ]
  },
  {
   "cell_type": "code",
   "execution_count": 77,
   "metadata": {},
   "outputs": [
    {
     "name": "stdout",
     "output_type": "stream",
     "text": [
      "36\n"
     ]
    }
   ],
   "source": [
    "# day 19. scanners & beacons\n",
    "import numpy as np\n",
    "import collections\n",
    "import itertools\n",
    "\n",
    "with open('/Users/sherwoodhachtman/Downloads/input19.txt','r') as d:\n",
    "    c = d.read()[:-1]\n",
    "\n",
    "# c = \"\"\"--- scanner 0 ---\n",
    "# 404,-588,-901\n",
    "# 528,-643,409\n",
    "# -838,591,734\n",
    "# 390,-675,-793\n",
    "# -537,-823,-458\n",
    "# -485,-357,347\n",
    "# -345,-311,381\n",
    "# -661,-816,-575\n",
    "# -876,649,763\n",
    "# -618,-824,-621\n",
    "# 553,345,-567\n",
    "# 474,580,667\n",
    "# -447,-329,318\n",
    "# -584,868,-557\n",
    "# 544,-627,-890\n",
    "# 564,392,-477\n",
    "# 455,729,728\n",
    "# -892,524,684\n",
    "# -689,845,-530\n",
    "# 423,-701,434\n",
    "# 7,-33,-71\n",
    "# 630,319,-379\n",
    "# 443,580,662\n",
    "# -789,900,-551\n",
    "# 459,-707,401\n",
    "\n",
    "# --- scanner 1 ---\n",
    "# 686,422,578\n",
    "# 605,423,415\n",
    "# 515,917,-361\n",
    "# -336,658,858\n",
    "# 95,138,22\n",
    "# -476,619,847\n",
    "# -340,-569,-846\n",
    "# 567,-361,727\n",
    "# -460,603,-452\n",
    "# 669,-402,600\n",
    "# 729,430,532\n",
    "# -500,-761,534\n",
    "# -322,571,750\n",
    "# -466,-666,-811\n",
    "# -429,-592,574\n",
    "# -355,545,-477\n",
    "# 703,-491,-529\n",
    "# -328,-685,520\n",
    "# 413,935,-424\n",
    "# -391,539,-444\n",
    "# 586,-435,557\n",
    "# -364,-763,-893\n",
    "# 807,-499,-711\n",
    "# 755,-354,-619\n",
    "# 553,889,-390\n",
    "\n",
    "# --- scanner 2 ---\n",
    "# 649,640,665\n",
    "# 682,-795,504\n",
    "# -784,533,-524\n",
    "# -644,584,-595\n",
    "# -588,-843,648\n",
    "# -30,6,44\n",
    "# -674,560,763\n",
    "# 500,723,-460\n",
    "# 609,671,-379\n",
    "# -555,-800,653\n",
    "# -675,-892,-343\n",
    "# 697,-426,-610\n",
    "# 578,704,681\n",
    "# 493,664,-388\n",
    "# -671,-858,530\n",
    "# -667,343,800\n",
    "# 571,-461,-707\n",
    "# -138,-166,112\n",
    "# -889,563,-600\n",
    "# 646,-828,498\n",
    "# 640,759,510\n",
    "# -630,509,768\n",
    "# -681,-892,-333\n",
    "# 673,-379,-804\n",
    "# -742,-814,-386\n",
    "# 577,-820,562\n",
    "\n",
    "# --- scanner 3 ---\n",
    "# -589,542,597\n",
    "# 605,-692,669\n",
    "# -500,565,-823\n",
    "# -660,373,557\n",
    "# -458,-679,-417\n",
    "# -488,449,543\n",
    "# -626,468,-788\n",
    "# 338,-750,-386\n",
    "# 528,-832,-391\n",
    "# 562,-778,733\n",
    "# -938,-730,414\n",
    "# 543,643,-506\n",
    "# -524,371,-870\n",
    "# 407,773,750\n",
    "# -104,29,83\n",
    "# 378,-903,-323\n",
    "# -778,-728,485\n",
    "# 426,699,580\n",
    "# -438,-605,-362\n",
    "# -469,-447,-387\n",
    "# 509,732,623\n",
    "# 647,635,-688\n",
    "# -868,-804,481\n",
    "# 614,-800,639\n",
    "# 595,780,-596\n",
    "\n",
    "# --- scanner 4 ---\n",
    "# 727,592,562\n",
    "# -293,-554,779\n",
    "# 441,611,-461\n",
    "# -714,465,-776\n",
    "# -743,427,-804\n",
    "# -660,-479,-426\n",
    "# 832,-632,460\n",
    "# 927,-485,-438\n",
    "# 408,393,-506\n",
    "# 466,436,-512\n",
    "# 110,16,151\n",
    "# -258,-428,682\n",
    "# -393,719,612\n",
    "# -211,-452,876\n",
    "# 808,-476,-593\n",
    "# -575,615,604\n",
    "# -485,667,467\n",
    "# -680,325,-822\n",
    "# -627,-443,-432\n",
    "# 872,-547,-609\n",
    "# 833,512,582\n",
    "# 807,604,487\n",
    "# 839,-516,451\n",
    "# 891,-625,532\n",
    "# -652,-548,-490\n",
    "# 30,-46,-14\"\"\"\n",
    "\n",
    "data = c.split('\\n\\n')\n",
    "scanner_data = [set([tuple((int(n),) for n in triple.split(',')) for triple in row.split('\\n')[1:]]) for row in data]\n",
    "print(len(scanner_data))"
   ]
  },
  {
   "cell_type": "markdown",
   "metadata": {},
   "source": [
    "Idea:\n",
    "\n",
    "we're given the results of 35 scanners.\n",
    "each has about 30 beacons in its range.\n",
    "I'd like to iterate through scanners,\n",
    "adding on as we go.\n",
    "\n",
    "For example, starting with scanner 1, \n",
    "proceed through each scanner from 2..35.\n",
    "For each pair of scanners, test its points\n",
    "(1..about30) against the other's (again 1..about30)\n",
    "to see if we get >=12 overlap.  And if so,\n",
    "we can add on.\n",
    "\n",
    "When I say 'test its points against the other's'\n",
    "I mean, for each point (x,y) from scanner A\n",
    "and (u,v) from scanner B, test each of the 24\n",
    "orientations of (u,v) to see if we have a\n",
    "resulting overlap of >=12 between the two scanners.\n",
    "For this we can compare the sets:\n",
    "\n",
    "- elements of scanner 1 results, shifted by (-x,-y)\n",
    "- elements of scanner 2 results, shifted by (-u,-v)\n",
    "   and then rotated into each of the 24 possible \n",
    "   orientations, via the right linear transformations...\n",
    "   \n"
   ]
  },
  {
   "cell_type": "code",
   "execution_count": 78,
   "metadata": {},
   "outputs": [],
   "source": [
    "def tup(R):\n",
    "    return tuple(map(tuple,np.array(R)))\n",
    "\n",
    "def prod(R,S):\n",
    "    return tup(np.matrix(R)*np.matrix(S))\n",
    "\n",
    "def Mv(M,v):\n",
    "    return tup(np.matrix(M).dot(v))\n",
    "\n",
    "def v_sum(u,v):\n",
    "    return tuple((u[i][0]+v[i][0],) for i in range(len(u)))\n",
    "\n",
    "def v_dif(u,v):\n",
    "    return tuple((u[i][0]-v[i][0],) for i in range(len(u)))\n",
    "\n",
    "def dist_squared(u,v):\n",
    "    return sum((u[i][0]-v[i][0])**2 for i in range(len(u)))"
   ]
  },
  {
   "cell_type": "code",
   "execution_count": 79,
   "metadata": {
    "scrolled": true
   },
   "outputs": [
    {
     "name": "stdout",
     "output_type": "stream",
     "text": [
      "24\n"
     ]
    }
   ],
   "source": [
    "cos,sin = 0,1\n",
    "\n",
    "basis = [[[1,0,0], [0,cos,-sin], [0,sin,cos]], \\\n",
    "         [[cos,0,sin], [0,1,0], [-sin,0,cos]], \\\n",
    "         [[cos,-sin,0], [sin,cos,0], [0,0,1]]]\n",
    "\n",
    "rotations = set(tup(R) for R in basis)\n",
    "\n",
    "new_matrices = [True]\n",
    "while any(new_matrices):\n",
    "    new_matrices = set(prod(R1,R2) for R1,R2 in itertools.product(rotations, repeat=2)).difference(rotations)\n",
    "    rotations |= new_matrices\n",
    "print(len(rotations))"
   ]
  },
  {
   "cell_type": "code",
   "execution_count": 80,
   "metadata": {},
   "outputs": [],
   "source": [
    "def distances(set_of_points):\n",
    "    return collections.Counter([dist_squared(u,v) for (u,v) in itertools.combinations(set_of_points, 2)])"
   ]
  },
  {
   "cell_type": "code",
   "execution_count": 81,
   "metadata": {},
   "outputs": [],
   "source": [
    "def distance_overlap(set_A, set_B):\n",
    "    A_dist = distances(set_A)\n",
    "    B_dist = distances(set_B)\n",
    "    return sum(min(A_dist[n], B_dist[n]) for n in A_dist)"
   ]
  },
  {
   "cell_type": "code",
   "execution_count": 82,
   "metadata": {},
   "outputs": [],
   "source": [
    "def find_overlap(scanner_A, scanner_B, threshold):\n",
    "    if distance_overlap(scanner_A, scanner_B) < (threshold-1)*threshold//2:\n",
    "        return None\n",
    "    for u in list(scanner_A)[:1-threshold]:\n",
    "        for R in rotations:\n",
    "            for v in list(scanner_B)[:1-threshold]:\n",
    "                B_reoriented = set([v_sum(u,Mv(R,v_dif(s,v))) for s in scanner_B])\n",
    "                if len(scanner_A.intersection(B_reoriented)) >= threshold:\n",
    "                    return u,v,R\n",
    "    return None"
   ]
  },
  {
   "cell_type": "code",
   "execution_count": 83,
   "metadata": {
    "scrolled": true
   },
   "outputs": [
    {
     "name": "stdout",
     "output_type": "stream",
     "text": [
      "dict_keys([(0, 7), (7, 0), (0, 25), (25, 0), (1, 9), (9, 1), (1, 12), (12, 1), (1, 15), (15, 1), (1, 20), (20, 1), (2, 3), (3, 2), (3, 10), (10, 3), (3, 25), (25, 3), (4, 28), (28, 4), (5, 15), (15, 5), (5, 16), (16, 5), (5, 20), (20, 5), (6, 12), (12, 6), (6, 24), (24, 6), (6, 34), (34, 6), (6, 35), (35, 6), (7, 34), (34, 7), (7, 35), (35, 7), (8, 32), (32, 8), (10, 22), (22, 10), (10, 29), (29, 10), (11, 19), (19, 11), (12, 27), (27, 12), (13, 14), (14, 13), (13, 28), (28, 13), (14, 33), (33, 14), (15, 26), (26, 15), (15, 27), (27, 15), (16, 18), (18, 16), (17, 19), (19, 17), (17, 22), (22, 17), (17, 29), (29, 17), (19, 28), (28, 19), (21, 35), (35, 21), (22, 31), (31, 22), (23, 24), (24, 23), (23, 32), (32, 23), (23, 34), (34, 23), (26, 33), (33, 26), (27, 32), (32, 27), (27, 34), (34, 27), (28, 33), (33, 28), (30, 31), (31, 30), (31, 34), (34, 31)])\n",
      "CPU times: user 1min 6s, sys: 448 ms, total: 1min 6s\n",
      "Wall time: 1min 6s\n"
     ]
    }
   ],
   "source": [
    "%%time\n",
    "overlaps = dict()\n",
    "for i,scanner_A in enumerate(scanner_data):\n",
    "    for j,scanner_B in enumerate(scanner_data[i+1:]):\n",
    "        result = find_overlap(scanner_A, scanner_B, 12)\n",
    "        if result:\n",
    "            overlaps[(i, i+1+j)] = result\n",
    "            overlaps[(i+j+1, i)] = find_overlap(scanner_B, scanner_A, 12)\n",
    "print(overlaps.keys())"
   ]
  },
  {
   "cell_type": "code",
   "execution_count": 84,
   "metadata": {},
   "outputs": [
    {
     "name": "stdout",
     "output_type": "stream",
     "text": [
      "436\n"
     ]
    }
   ],
   "source": [
    "known_beacons = collections.defaultdict(set)\n",
    "new_beacons = True\n",
    "while new_beacons:\n",
    "    new_beacons = False\n",
    "    for (i,j) in overlaps:\n",
    "        known_beacons[j] |= scanner_data[j]\n",
    "        u,v,R = overlaps[(i,j)]\n",
    "        reoriented = set([v_sum(u,Mv(R,v_dif(s,v))) for s in known_beacons[j]])\n",
    "        if any(reoriented.difference(known_beacons[i])):\n",
    "            known_beacons[i] |= reoriented\n",
    "            new_beacons = True\n",
    "print(len(known_beacons[0]))"
   ]
  },
  {
   "cell_type": "code",
   "execution_count": 85,
   "metadata": {},
   "outputs": [
    {
     "name": "stdout",
     "output_type": "stream",
     "text": [
      "36\n"
     ]
    }
   ],
   "source": [
    "# part 2\n",
    "scanner_locations = collections.defaultdict(set)\n",
    "new_locations = True\n",
    "while new_locations:\n",
    "    new_locations = False\n",
    "    for (i,j) in overlaps:\n",
    "        scanner_locations[j] |= {((0,),(0,),(0,))}\n",
    "        u,v,R = overlaps[(i,j)]\n",
    "        reoriented = set([v_sum(u,Mv(R,v_dif(s,v))) for s in scanner_locations[j]])\n",
    "        new_locations |= any(reoriented.difference(scanner_locations[i]))\n",
    "        scanner_locations[i] |= reoriented\n",
    "print(len(scanner_locations[0]))"
   ]
  },
  {
   "cell_type": "code",
   "execution_count": 86,
   "metadata": {},
   "outputs": [
    {
     "name": "stdout",
     "output_type": "stream",
     "text": [
      "10918\n"
     ]
    }
   ],
   "source": [
    "def manhattan_dist(u,v):\n",
    "    return sum(abs(u[i][0]-v[i][0]) for i in range(len(u)))\n",
    "\n",
    "print(max([manhattan_dist(u,v) for (u,v) in itertools.combinations(scanner_locations[0],2)]))"
   ]
  },
  {
   "cell_type": "code",
   "execution_count": 87,
   "metadata": {},
   "outputs": [],
   "source": [
    "# 18. snailfish numbers\n",
    "\n",
    "import itertools\n",
    "\n",
    "with open('/Users/sherwoodhachtman/Downloads/input18.txt') as d:\n",
    "    c = d.read()\n",
    "    \n",
    "# c = \"\"\"[[[0,[4,5]],[0,0]],[[[4,5],[2,6]],[9,5]]]\n",
    "# [7,[[[3,7],[4,3]],[[6,3],[8,8]]]]\n",
    "# [[2,[[0,8],[3,4]]],[[[6,7],1],[7,[1,6]]]]\n",
    "# [[[[2,4],7],[6,[0,5]]],[[[6,8],[2,8]],[[2,1],[4,5]]]]\n",
    "# [7,[5,[[3,8],[1,4]]]]\n",
    "# [[2,[2,2]],[8,[8,1]]]\n",
    "# [2,9]\n",
    "# [1,[[[9,3],9],[[9,0],[0,7]]]]\n",
    "# [[[5,[7,4]],7],1]\n",
    "# [[[[4,2],2],6],[8,7]]\n",
    "# \"\"\"\n",
    "\n",
    "sf_strings = c.split('\\n')[:-1]"
   ]
  },
  {
   "cell_type": "code",
   "execution_count": 88,
   "metadata": {},
   "outputs": [],
   "source": [
    "def arrayify(string):\n",
    "    result = []\n",
    "    i = 0\n",
    "    while i<len(string):\n",
    "        left = i\n",
    "        if string[left] in '0123456789':\n",
    "            while string[i] in '0123456789':\n",
    "                i += 1\n",
    "            result.append(int(string[left:i]))\n",
    "        else:\n",
    "            if string[i] != ',':\n",
    "                result.append(string[i])\n",
    "            i += 1\n",
    "    return result\n",
    "\n",
    "def add(array1, array2):\n",
    "    return ['['] + array1 + array2 + [']']\n",
    "\n",
    "def depth(array, i):\n",
    "    return array[:i].count('[') - array[:i].count(']')\n",
    "\n",
    "def is_reduced(array):\n",
    "    return all(depth(array,i) < 5 for i in range(len(array))) and \\\n",
    "            all(array[i] < 10 for i in range(len(array)) if type(array[i])==int)\n",
    "\n",
    "def explode(array,i):\n",
    "    i -= 1\n",
    "    left, right = array[i+1], array[i+2]\n",
    "    j = i-1\n",
    "    while j > 0 and type(array[j]) != int:\n",
    "        j -= 1\n",
    "    if type(array[j]) == int:\n",
    "        array[j] += left\n",
    "    j = i+3\n",
    "    while j < len(array)-1 and type(array[j]) != int:\n",
    "        j += 1\n",
    "    if type(array[j]) == int:\n",
    "        array[j] += right\n",
    "    return array[:i]+[0]+array[i+4:]\n",
    "\n",
    "def split(array,i):\n",
    "    left, right = array[i]//2, array[i]//2\n",
    "    if left + right < array[i]:\n",
    "        right += 1\n",
    "    return array[:i] + ['[', left, right, ']'] + array[i+1:]"
   ]
  },
  {
   "cell_type": "code",
   "execution_count": 89,
   "metadata": {},
   "outputs": [],
   "source": [
    "def reduce(array):\n",
    "    while not is_reduced(array):\n",
    "        if any(type(array[i]) == int and depth(array,i) > 4 for i in range(len(array))):\n",
    "            i = min(i for i in range(len(array)) if type(array[i]) == int and depth(array,i) > 4)\n",
    "            array = explode(array,i)\n",
    "        elif any(type(array[i]) == int and array[i]>=10 for i in range(len(array))):\n",
    "            i = min(i for i in range(len(array)) if type(array[i]) == int and array[i] >= 10)\n",
    "            array = split(array,i)\n",
    "    return array"
   ]
  },
  {
   "cell_type": "code",
   "execution_count": 90,
   "metadata": {},
   "outputs": [],
   "source": [
    "def magnitude(array):\n",
    "    if type(array[0]) == int:\n",
    "        return array[0]\n",
    "    if type(array[1]) == int:\n",
    "        i = 2\n",
    "    else:\n",
    "        stack = ['[']\n",
    "        i = 2\n",
    "        while stack:\n",
    "            if array[i] == '[':\n",
    "                stack.append('[')\n",
    "            elif array[i] == ']':\n",
    "                stack.pop()\n",
    "            i += 1\n",
    "    return 3*magnitude(array[1:i]) + 2*magnitude(array[i:-1])    "
   ]
  },
  {
   "cell_type": "code",
   "execution_count": 91,
   "metadata": {
    "scrolled": true
   },
   "outputs": [
    {
     "name": "stdout",
     "output_type": "stream",
     "text": [
      "['[', '[', '[', '[', 9, 8, ']', '[', 6, 0, ']', ']', '[', '[', 7, 6, ']', 8, ']', ']', '[', '[', '[', 3, 2, ']', 5, ']', 8, ']', ']']\n",
      "2501\n"
     ]
    }
   ],
   "source": [
    "hw = [arrayify(r) for r in sf_strings]\n",
    "array = hw[0]\n",
    "for barray in hw[1:]:\n",
    "    array = add(array, barray)\n",
    "    array = reduce(array)\n",
    "print(array)\n",
    "print(magnitude(array))"
   ]
  },
  {
   "cell_type": "code",
   "execution_count": 92,
   "metadata": {
    "scrolled": true
   },
   "outputs": [
    {
     "name": "stdout",
     "output_type": "stream",
     "text": [
      "4935\n",
      "CPU times: user 24 s, sys: 75.9 ms, total: 24.1 s\n",
      "Wall time: 24.2 s\n"
     ]
    }
   ],
   "source": [
    "%%time\n",
    "# part 2\n",
    "hw = [arrayify(r) for r in sf_strings]\n",
    "best = 0\n",
    "for a1,a2 in itertools.combinations(hw, 2):\n",
    "    s = magnitude(reduce(add(a1,a2)))\n",
    "    t = magnitude(reduce(add(a2,a1)))\n",
    "    best = max(s,t,best)\n",
    "print(best)"
   ]
  },
  {
   "cell_type": "code",
   "execution_count": 93,
   "metadata": {},
   "outputs": [],
   "source": [
    "# Day 17 - trick shot\n",
    "\n",
    "# it's math!\n",
    "# but I'm just going to be lazy about it"
   ]
  },
  {
   "cell_type": "code",
   "execution_count": 94,
   "metadata": {},
   "outputs": [],
   "source": [
    "def pos(x,t):\n",
    "    return t*x - (t*(t-1))//2"
   ]
  },
  {
   "cell_type": "code",
   "execution_count": 95,
   "metadata": {
    "scrolled": false
   },
   "outputs": [],
   "source": [
    "for x in range(24,315):\n",
    "    t = 0\n",
    "    while t <= x and pos(x,t) < 282:\n",
    "        t += 1\n",
    "    low = t\n",
    "    while t+1 <= x and pos(x,t+1) <= 314:\n",
    "        t += 1\n",
    "    high = t\n",
    "    # print(x,low,high, pos(x,low), pos(x,high))"
   ]
  },
  {
   "cell_type": "code",
   "execution_count": 96,
   "metadata": {
    "scrolled": true
   },
   "outputs": [
    {
     "name": "stdout",
     "output_type": "stream",
     "text": [
      "good! hit at t=13 with x=286 and y=-78 (starting velocity (28,0))\n",
      "max traj: 0\n",
      "good! hit at t=12 with x=282 and y=-66 (starting velocity (29,0))\n",
      "max traj: 0\n",
      "good! hit at t=12 with x=294 and y=-66 (starting velocity (30,0))\n",
      "max traj: 0\n",
      "good! hit at t=11 with x=286 and y=-55 (starting velocity (31,0))\n",
      "max traj: 0\n",
      "good! hit at t=11 with x=297 and y=-55 (starting velocity (32,0))\n",
      "max traj: 0\n",
      "good! hit at t=10 with x=285 and y=-45 (starting velocity (33,0))\n",
      "max traj: 0\n",
      "good! hit at t=10 with x=295 and y=-45 (starting velocity (34,0))\n",
      "max traj: 0\n",
      "good! hit at t=10 with x=305 and y=-45 (starting velocity (35,0))\n",
      "max traj: 0\n",
      "good! hit at t=14 with x=287 and y=-77 (starting velocity (27,1))\n",
      "max traj: 1\n",
      "good! hit at t=13 with x=286 and y=-65 (starting velocity (28,1))\n",
      "max traj: 1\n",
      "good! hit at t=12 with x=282 and y=-54 (starting velocity (29,1))\n",
      "max traj: 1\n",
      "good! hit at t=12 with x=294 and y=-54 (starting velocity (30,1))\n",
      "max traj: 1\n",
      "good! hit at t=12 with x=306 and y=-54 (starting velocity (31,1))\n",
      "max traj: 1\n",
      "good! hit at t=15 with x=285 and y=-75 (starting velocity (26,2))\n",
      "max traj: 3\n",
      "good! hit at t=14 with x=287 and y=-63 (starting velocity (27,2))\n",
      "max traj: 3\n",
      "good! hit at t=13 with x=286 and y=-52 (starting velocity (28,2))\n",
      "max traj: 3\n",
      "good! hit at t=13 with x=299 and y=-52 (starting velocity (29,2))\n",
      "max traj: 3\n",
      "good! hit at t=13 with x=312 and y=-52 (starting velocity (30,2))\n",
      "max traj: 3\n",
      "good! hit at t=15 with x=285 and y=-60 (starting velocity (26,3))\n",
      "max traj: 6\n",
      "good! hit at t=14 with x=287 and y=-49 (starting velocity (27,3))\n",
      "max traj: 6\n",
      "good! hit at t=14 with x=301 and y=-49 (starting velocity (28,3))\n",
      "max traj: 6\n",
      "good! hit at t=17 with x=289 and y=-68 (starting velocity (25,4))\n",
      "max traj: 10\n",
      "good! hit at t=15 with x=285 and y=-45 (starting velocity (26,4))\n",
      "max traj: 10\n",
      "good! hit at t=15 with x=300 and y=-45 (starting velocity (27,4))\n",
      "max traj: 10\n",
      "good! hit at t=19 with x=285 and y=-76 (starting velocity (24,5))\n",
      "max traj: 15\n",
      "good! hit at t=17 with x=289 and y=-51 (starting velocity (25,5))\n",
      "max traj: 15\n",
      "good! hit at t=17 with x=306 and y=-51 (starting velocity (26,5))\n",
      "max traj: 15\n",
      "good! hit at t=19 with x=285 and y=-57 (starting velocity (24,6))\n",
      "max traj: 21\n",
      "good! hit at t=18 with x=297 and y=-45 (starting velocity (25,6))\n",
      "max traj: 21\n",
      "good! hit at t=20 with x=290 and y=-50 (starting velocity (24,7))\n",
      "max traj: 28\n",
      "good! hit at t=20 with x=310 and y=-50 (starting velocity (25,7))\n",
      "max traj: 28\n",
      "good! hit at t=22 with x=297 and y=-55 (starting velocity (24,8))\n",
      "max traj: 36\n",
      "good! hit at t=23 with x=299 and y=-46 (starting velocity (24,9))\n",
      "max traj: 45\n",
      "good! hit at t=25 with x=300 and y=-50 (starting velocity (24,10))\n",
      "max traj: 55\n",
      "good! hit at t=27 with x=300 and y=-54 (starting velocity (24,11))\n",
      "max traj: 66\n",
      "good! hit at t=29 with x=300 and y=-58 (starting velocity (24,12))\n",
      "max traj: 78\n",
      "good! hit at t=30 with x=300 and y=-45 (starting velocity (24,13))\n",
      "max traj: 91\n",
      "good! hit at t=32 with x=300 and y=-48 (starting velocity (24,14))\n",
      "max traj: 105\n",
      "good! hit at t=34 with x=300 and y=-51 (starting velocity (24,15))\n",
      "max traj: 120\n",
      "good! hit at t=36 with x=300 and y=-54 (starting velocity (24,16))\n",
      "max traj: 136\n",
      "good! hit at t=38 with x=300 and y=-57 (starting velocity (24,17))\n",
      "max traj: 153\n",
      "good! hit at t=40 with x=300 and y=-60 (starting velocity (24,18))\n",
      "max traj: 171\n",
      "good! hit at t=42 with x=300 and y=-63 (starting velocity (24,19))\n",
      "max traj: 190\n",
      "good! hit at t=44 with x=300 and y=-66 (starting velocity (24,20))\n",
      "max traj: 210\n",
      "good! hit at t=45 with x=300 and y=-45 (starting velocity (24,21))\n",
      "max traj: 231\n",
      "good! hit at t=47 with x=300 and y=-47 (starting velocity (24,22))\n",
      "max traj: 253\n",
      "good! hit at t=49 with x=300 and y=-49 (starting velocity (24,23))\n",
      "max traj: 276\n",
      "good! hit at t=51 with x=300 and y=-51 (starting velocity (24,24))\n",
      "max traj: 300\n",
      "good! hit at t=53 with x=300 and y=-53 (starting velocity (24,25))\n",
      "max traj: 325\n",
      "good! hit at t=55 with x=300 and y=-55 (starting velocity (24,26))\n",
      "max traj: 351\n",
      "good! hit at t=57 with x=300 and y=-57 (starting velocity (24,27))\n",
      "max traj: 378\n",
      "good! hit at t=59 with x=300 and y=-59 (starting velocity (24,28))\n",
      "max traj: 406\n",
      "good! hit at t=61 with x=300 and y=-61 (starting velocity (24,29))\n",
      "max traj: 435\n",
      "good! hit at t=63 with x=300 and y=-63 (starting velocity (24,30))\n",
      "max traj: 465\n",
      "good! hit at t=65 with x=300 and y=-65 (starting velocity (24,31))\n",
      "max traj: 496\n",
      "good! hit at t=67 with x=300 and y=-67 (starting velocity (24,32))\n",
      "max traj: 528\n",
      "good! hit at t=69 with x=300 and y=-69 (starting velocity (24,33))\n",
      "max traj: 561\n",
      "good! hit at t=71 with x=300 and y=-71 (starting velocity (24,34))\n",
      "max traj: 595\n",
      "good! hit at t=73 with x=300 and y=-73 (starting velocity (24,35))\n",
      "max traj: 630\n",
      "good! hit at t=75 with x=300 and y=-75 (starting velocity (24,36))\n",
      "max traj: 666\n",
      "good! hit at t=77 with x=300 and y=-77 (starting velocity (24,37))\n",
      "max traj: 703\n",
      "good! hit at t=79 with x=300 and y=-79 (starting velocity (24,38))\n",
      "max traj: 741\n",
      "good! hit at t=90 with x=300 and y=-45 (starting velocity (24,44))\n",
      "max traj: 990\n",
      "good! hit at t=92 with x=300 and y=-46 (starting velocity (24,45))\n",
      "max traj: 1035\n",
      "good! hit at t=94 with x=300 and y=-47 (starting velocity (24,46))\n",
      "max traj: 1081\n",
      "good! hit at t=96 with x=300 and y=-48 (starting velocity (24,47))\n",
      "max traj: 1128\n",
      "good! hit at t=98 with x=300 and y=-49 (starting velocity (24,48))\n",
      "max traj: 1176\n",
      "good! hit at t=100 with x=300 and y=-50 (starting velocity (24,49))\n",
      "max traj: 1225\n",
      "good! hit at t=102 with x=300 and y=-51 (starting velocity (24,50))\n",
      "max traj: 1275\n",
      "good! hit at t=104 with x=300 and y=-52 (starting velocity (24,51))\n",
      "max traj: 1326\n",
      "good! hit at t=106 with x=300 and y=-53 (starting velocity (24,52))\n",
      "max traj: 1378\n",
      "good! hit at t=108 with x=300 and y=-54 (starting velocity (24,53))\n",
      "max traj: 1431\n",
      "good! hit at t=110 with x=300 and y=-55 (starting velocity (24,54))\n",
      "max traj: 1485\n",
      "good! hit at t=112 with x=300 and y=-56 (starting velocity (24,55))\n",
      "max traj: 1540\n",
      "good! hit at t=114 with x=300 and y=-57 (starting velocity (24,56))\n",
      "max traj: 1596\n",
      "good! hit at t=116 with x=300 and y=-58 (starting velocity (24,57))\n",
      "max traj: 1653\n",
      "good! hit at t=118 with x=300 and y=-59 (starting velocity (24,58))\n",
      "max traj: 1711\n",
      "good! hit at t=120 with x=300 and y=-60 (starting velocity (24,59))\n",
      "max traj: 1770\n",
      "good! hit at t=122 with x=300 and y=-61 (starting velocity (24,60))\n",
      "max traj: 1830\n",
      "good! hit at t=124 with x=300 and y=-62 (starting velocity (24,61))\n",
      "max traj: 1891\n",
      "good! hit at t=126 with x=300 and y=-63 (starting velocity (24,62))\n",
      "max traj: 1953\n",
      "good! hit at t=128 with x=300 and y=-64 (starting velocity (24,63))\n",
      "max traj: 2016\n",
      "good! hit at t=130 with x=300 and y=-65 (starting velocity (24,64))\n",
      "max traj: 2080\n",
      "good! hit at t=132 with x=300 and y=-66 (starting velocity (24,65))\n",
      "max traj: 2145\n",
      "good! hit at t=134 with x=300 and y=-67 (starting velocity (24,66))\n",
      "max traj: 2211\n",
      "good! hit at t=136 with x=300 and y=-68 (starting velocity (24,67))\n",
      "max traj: 2278\n",
      "good! hit at t=138 with x=300 and y=-69 (starting velocity (24,68))\n",
      "max traj: 2346\n",
      "good! hit at t=140 with x=300 and y=-70 (starting velocity (24,69))\n",
      "max traj: 2415\n",
      "good! hit at t=142 with x=300 and y=-71 (starting velocity (24,70))\n",
      "max traj: 2485\n",
      "good! hit at t=144 with x=300 and y=-72 (starting velocity (24,71))\n",
      "max traj: 2556\n",
      "good! hit at t=146 with x=300 and y=-73 (starting velocity (24,72))\n",
      "max traj: 2628\n",
      "good! hit at t=148 with x=300 and y=-74 (starting velocity (24,73))\n",
      "max traj: 2701\n",
      "good! hit at t=150 with x=300 and y=-75 (starting velocity (24,74))\n",
      "max traj: 2775\n",
      "good! hit at t=152 with x=300 and y=-76 (starting velocity (24,75))\n",
      "max traj: 2850\n",
      "good! hit at t=154 with x=300 and y=-77 (starting velocity (24,76))\n",
      "max traj: 2926\n",
      "good! hit at t=156 with x=300 and y=-78 (starting velocity (24,77))\n",
      "max traj: 3003\n",
      "good! hit at t=158 with x=300 and y=-79 (starting velocity (24,78))\n",
      "max traj: 3081\n",
      "good! hit at t=160 with x=300 and y=-80 (starting velocity (24,79))\n",
      "max traj: 3160\n",
      "CPU times: user 26.4 s, sys: 124 ms, total: 26.6 s\n",
      "Wall time: 26.7 s\n"
     ]
    }
   ],
   "source": [
    "%%time\n",
    "#good_x_vals = [24,25,26,27,28,29,31,33,34,36,39,44,50,59,72,95,145,300]\n",
    "#good_x_vals = [i for i in range(15,300)]\n",
    "x_min, x_max = 282, 314\n",
    "y_min, y_max = -80, -45\n",
    "# x_min, x_max = 20, 30\n",
    "# y_min, y_max = -10, -5\n",
    "for y in range(1000):\n",
    "    for x in range(300):\n",
    "        best = 0\n",
    "        v_y, v_x = y, x\n",
    "        pos_x = 0\n",
    "        pos_y = 0\n",
    "        t = 0\n",
    "        found = False\n",
    "        while pos_x <= x_max and pos_y >= y_min:\n",
    "            t += 1\n",
    "            pos_x += v_x\n",
    "            pos_y += v_y\n",
    "            best = max(best,pos_y)\n",
    "            v_x = max(0,v_x-1)\n",
    "            v_y -= 1\n",
    "#            print(x, pos_x, pos_y)\n",
    "            if x_min <= pos_x <= x_max and y_min <= pos_y <= y_max:\n",
    "                print('good! hit at t={} with x={} and y={} (starting velocity ({},{}))'.format(t,pos_x,pos_y,x,y))\n",
    "                found = True\n",
    "                break\n",
    "        if found:\n",
    "            print('max traj: {}'.format(best))\n",
    "            continue                "
   ]
  },
  {
   "cell_type": "code",
   "execution_count": 97,
   "metadata": {},
   "outputs": [
    {
     "name": "stdout",
     "output_type": "stream",
     "text": [
      "1928\n"
     ]
    }
   ],
   "source": [
    "# part 2\n",
    "good_velocities = []\n",
    "for y in range(-80,100):\n",
    "    for x in range(350):\n",
    "        best = 0\n",
    "        v_y, v_x = y, x\n",
    "        pos_x = 0\n",
    "        pos_y = 0\n",
    "        t = 0\n",
    "        found = False\n",
    "        while pos_x <= x_max and pos_y >= y_min:\n",
    "            t += 1\n",
    "            pos_x += v_x\n",
    "            pos_y += v_y\n",
    "            best = max(best,pos_y)\n",
    "            v_x = max(0,v_x-1)\n",
    "            v_y -= 1\n",
    "#            print(x, pos_x, pos_y)\n",
    "            if x_min <= pos_x <= x_max and y_min <= pos_y <= y_max:\n",
    "                # print('good! hit at t={} with x={} and y={} (starting velocity ({},{}))'.format(t,pos_x,pos_y,x,y))\n",
    "                good_velocities.append((x,y))\n",
    "                break\n",
    "print(len(good_velocities))"
   ]
  },
  {
   "cell_type": "code",
   "execution_count": 98,
   "metadata": {},
   "outputs": [],
   "source": [
    "# day 20 - trench map\n",
    "\n",
    "import collections\n",
    "with open('/Users/sherwoodhachtman/Downloads/input20.txt') as d:\n",
    "    content = d.read()\n",
    "\n",
    "# content = \"\"\"..#.#..#####.#.#.#.###.##.....###.##.#..###.####..#####..#....#..#..##..###..######.###...####..#..#####..##..#.#####...##.#.#..#.##..#.#......#.###.######.###.####...#.##.##..#..#..#####.....#.#....###..#.##......#.....#..#..#..##..#...##.######.####.####.#.#...#.......#..#.#.#...####.##.#......#..#...##.#.##..#...##.#.##..###.#......#.#.......#.#.#.####.###.##...#.....####.#..#..#.##.#....##..#.####....##...##..#...#......#.#.......#.......##..####..#...#.#.#...##..#.#..###..#####........#..####......#..#\n",
    "\n",
    "# #..#.\n",
    "# #....\n",
    "# ##..#\n",
    "# ..#..\n",
    "# ..###\n",
    "# \"\"\"\n",
    "    \n",
    "rows = content.split('\\n')[:-1]\n",
    "\n",
    "def adj(i,j,rows):\n",
    "    return [rows[a][j-1:j+2] for a in range(i-1,i+2)]\n",
    "\n",
    "def is_min(i,j,rows):\n",
    "    return all(rows[i][j] < rows[h][k] for (h,k) in adj(i,j,rows))"
   ]
  },
  {
   "cell_type": "code",
   "execution_count": 99,
   "metadata": {},
   "outputs": [],
   "source": [
    "def pad(rows,n):\n",
    "    padded_rows = ['.'*(len(rows[0])+2*n)]*n\n",
    "    for r in rows:\n",
    "        padded_rows.append('.'*n + r + '.'*n)\n",
    "    padded_rows.extend(['.'*(len(rows[0])+2*n)]*n)\n",
    "    return padded_rows"
   ]
  },
  {
   "cell_type": "code",
   "execution_count": 100,
   "metadata": {},
   "outputs": [],
   "source": [
    "def enhance(i,j,rows,key):\n",
    "    index = int(''.join([str(int(c=='#')) for c in ''.join(adj(i,j,rows))]),2)\n",
    "    return key[index]"
   ]
  },
  {
   "cell_type": "code",
   "execution_count": 101,
   "metadata": {},
   "outputs": [],
   "source": [
    "def enhance_full_image(rows,key):\n",
    "    result = []\n",
    "    for i,row in enumerate(rows):\n",
    "        if i in (0, len(rows)-1):\n",
    "            result.append(row)\n",
    "        else:\n",
    "            result.append(row[0] + ''.join([enhance(i,j,rows,key) for j in range(1,len(row)-1)]) + row[-1])\n",
    "    return result"
   ]
  },
  {
   "cell_type": "code",
   "execution_count": 102,
   "metadata": {
    "scrolled": false
   },
   "outputs": [
    {
     "name": "stdout",
     "output_type": "stream",
     "text": [
      "4928\n"
     ]
    }
   ],
   "source": [
    "padded_rows = pad(rows[2:],5)\n",
    "new_rows = padded_rows\n",
    "for i in range(3):\n",
    "#     print(i)\n",
    "    if i == 0:\n",
    "        new_rows = padded_rows\n",
    "    else:\n",
    "        new_rows = enhance_full_image(new_rows, rows[0])\n",
    "#     for r in new_rows:\n",
    "#         print(r)\n",
    "    \n",
    "print(sum(row[3:-3].count('#') for row in new_rows))"
   ]
  },
  {
   "cell_type": "code",
   "execution_count": 103,
   "metadata": {},
   "outputs": [
    {
     "name": "stdout",
     "output_type": "stream",
     "text": [
      "16605\n"
     ]
    }
   ],
   "source": [
    "# part 2\n",
    "padded_rows = pad(rows[2:],120)\n",
    "new_rows = padded_rows\n",
    "for i in range(51):\n",
    "    if i == 0:\n",
    "        new_rows = padded_rows\n",
    "    else:\n",
    "        new_rows = enhance_full_image(new_rows, rows[0])\n",
    "    \n",
    "print(sum(row[55:-55].count('#') for row in new_rows))"
   ]
  },
  {
   "cell_type": "code",
   "execution_count": 104,
   "metadata": {},
   "outputs": [
    {
     "name": "stdout",
     "output_type": "stream",
     "text": [
      "1005 [1006, 916]\n"
     ]
    }
   ],
   "source": [
    "# Dirac dice\n",
    "score = [0,0]\n",
    "position = [5,3]\n",
    "n = 0\n",
    "while max(score) < 1000:\n",
    "    n += 1\n",
    "    player = 1-int(1 <= n%6 <= 3)\n",
    "    position[player] += n\n",
    "    position[player] %= 10\n",
    "    if n%3 == 0:\n",
    "        score[player] += position[player]+1\n",
    "print(n, score)\n",
    "    "
   ]
  },
  {
   "cell_type": "code",
   "execution_count": 105,
   "metadata": {},
   "outputs": [
    {
     "name": "stdout",
     "output_type": "stream",
     "text": [
      "647920021341197\n"
     ]
    }
   ],
   "source": [
    "universes = collections.defaultdict(int)\n",
    "universes[(0,0,5,3)] = 1\n",
    "play_to = 21\n",
    "\n",
    "n = 0\n",
    "wins = [0,0]\n",
    "while any(max(s1,s2) < play_to for (s1,s2,p1,p2) in universes):\n",
    "    new_universes = collections.defaultdict(int)\n",
    "    n = (n+1)%6\n",
    "    player = 1-int(1 <= n <= 3)\n",
    "    for (s0,s1,p0,p1),count in universes.items():\n",
    "        for i in range(1,4):\n",
    "            position = [p0,p1]\n",
    "            score = [s0,s1]\n",
    "            position[player] += i\n",
    "            position[player] %= 10\n",
    "            if n%3 == 0:\n",
    "                score[player] += position[player]+1\n",
    "            new_universes[tuple(score+position)] += count\n",
    "    universes = collections.defaultdict(int)\n",
    "    for (s0,s1,p0,p1),count in new_universes.items():\n",
    "        if max(s0,s1) >= play_to:\n",
    "            winner = int(s1>=play_to)\n",
    "            wins[winner] += count\n",
    "        else:\n",
    "            universes[(s0,s1,p0,p1)] = count\n",
    "print(max(wins))"
   ]
  },
  {
   "cell_type": "code",
   "execution_count": 106,
   "metadata": {},
   "outputs": [
    {
     "name": "stdout",
     "output_type": "stream",
     "text": [
      "on x=0..44,y=-37..12,z=-13..31\n",
      "[(0, 44), (-37, 12), (-13, 31), 'on']\n",
      "420\n"
     ]
    }
   ],
   "source": [
    "# day 22\n",
    "\n",
    "import itertools\n",
    "\n",
    "with open('/Users/sherwoodhachtman/downloads/input22.txt') as f:\n",
    "    d = f.read()\n",
    "\n",
    "rows = d.split('\\n')[:-1]\n",
    "\n",
    "instructions = []\n",
    "for row in rows:\n",
    "    r = []\n",
    "    ch = row.split(',')\n",
    "    for coord in ch:\n",
    "        right = coord.split('=')[1]\n",
    "        nums = right.split('..')\n",
    "        r.append(tuple(int(s) for s in nums))\n",
    "    r.append(ch[0].split(' ')[0])\n",
    "    instructions.append(r)\n",
    "\n",
    "print(rows[0])\n",
    "print(instructions[0])\n",
    "print(len(instructions))"
   ]
  },
  {
   "cell_type": "code",
   "execution_count": 107,
   "metadata": {},
   "outputs": [
    {
     "name": "stdout",
     "output_type": "stream",
     "text": [
      "{'on': 596989, 'off': 433312}\n",
      "CPU times: user 17 s, sys: 77.9 ms, total: 17.1 s\n",
      "Wall time: 17.2 s\n"
     ]
    }
   ],
   "source": [
    "%%time\n",
    "# part 1\n",
    "# brute forcey\n",
    "\n",
    "L=50\n",
    "relevant_instructions = [row for row in instructions if all(c[0] <= L and c[1] >= -L for c in row[:3])]\n",
    "count = {'on':0, 'off':0}\n",
    "for s in itertools.product(range(-L,L+1), repeat=3):\n",
    "    found = False\n",
    "    for row in relevant_instructions[::-1]:\n",
    "        if all(row[i][0] <= s[i] <= row[i][1] for i in range(3)):\n",
    "            count[row[3]] += 1\n",
    "            found = True\n",
    "            break\n",
    "    if not found:\n",
    "        count['off'] += 1\n",
    "print(count)"
   ]
  },
  {
   "cell_type": "code",
   "execution_count": 108,
   "metadata": {},
   "outputs": [],
   "source": [
    "# part 2\n",
    "# idea: take a partition that is the common refinement of all the regions.\n",
    "# then process the subpieces (in reverse order)\n",
    "# with the guarantee that all are disjoint."
   ]
  },
  {
   "cell_type": "code",
   "execution_count": 109,
   "metadata": {},
   "outputs": [
    {
     "name": "stdout",
     "output_type": "stream",
     "text": [
      "{'on': 1160011199157381, 'off': 663301656625178}\n",
      "CPU times: user 2.32 s, sys: 18.4 ms, total: 2.34 s\n",
      "Wall time: 2.36 s\n"
     ]
    }
   ],
   "source": [
    "%%time\n",
    "\n",
    "def are_disjoint(p1,p2):\n",
    "    return any(p1[i][1] < p2[i][0] or p2[i][1] < p1[i][0] for i in range(len(p1)))\n",
    "def overlap(p1,p2):\n",
    "    return not are_disjoint(p1,p2)\n",
    "def subset(p1,p2):\n",
    "    return all(p2[i][0] <= p1[i][0] and p1[i][1] <= p2[i][1] for i in range(len(p1)))\n",
    "def volume(p):\n",
    "    result = 1\n",
    "    for i in range(len(p)):\n",
    "        result *= (p[i][1] + 1 - p[i][0])\n",
    "    return result\n",
    "\n",
    "def split(cell, axis, coord):\n",
    "    if coord < cell[axis][0] or cell[axis][1] < coord:\n",
    "        return [cell]\n",
    "    result = []\n",
    "    for u in (cell[axis][0], coord-1), (coord, coord), (coord+1, cell[axis][1]):\n",
    "        if u[0] <= u[1]:\n",
    "            copy = list(cell)\n",
    "            copy[axis] = u\n",
    "            result.append(tuple(copy))\n",
    "    return result\n",
    "\n",
    "count = {'on':0, 'off':0}\n",
    "for i,s in enumerate(instructions):\n",
    "    toggle = s[3]\n",
    "    cells = [tuple(s[:3])]\n",
    "    overlaps = [tuple(t[:3]) for t in instructions[i+1:] if overlap(s[:3], t[:3])]\n",
    "    while any(cells):\n",
    "        c = cells.pop()\n",
    "        if any(subset(c,t) for t in overlaps):\n",
    "            continue\n",
    "        elif all(are_disjoint(c,t) for t in overlaps):\n",
    "            count[toggle] += volume(c)\n",
    "        else:\n",
    "            replacements = [c]\n",
    "            t = next(filter(lambda t: overlap(c,t), overlaps))\n",
    "            for a in range(3):\n",
    "                for coord in t[a]:\n",
    "                    replacements = [subcells for r in replacements for subcells in split(r,a,coord)]\n",
    "            cells.extend(replacements)\n",
    "print(count)"
   ]
  },
  {
   "cell_type": "code",
   "execution_count": 110,
   "metadata": {},
   "outputs": [],
   "source": [
    "#23 Amphipods\n",
    "\n",
    "import collections\n",
    "import time\n",
    "import heapq\n",
    "\n",
    "# part 1\n",
    "# starting_position_string = \"\"\"#...........#\n",
    "# ###A#D#A#C###\n",
    "#   #C#D#B#B#\"\"\"\n",
    "\n",
    "# end_position_string = \"\"\"#...........#\n",
    "# ###A#B#C#D###\n",
    "#   #A#B#C#D#\"\"\"\n",
    "\n",
    "# part 2\n",
    "starting_position_string = \"\"\"#...........#\n",
    "###A#D#A#C###\n",
    "  #D#C#B#A#\n",
    "  #D#B#A#C#\n",
    "  #C#D#B#B#\"\"\"\n",
    "\n",
    "end_position_string = \"\"\"#...........#\n",
    "###A#B#C#D###\n",
    "  #A#B#C#D#\n",
    "  #A#B#C#D#\n",
    "  #A#B#C#D#\"\"\"\n",
    "\n",
    "def make_dict(position_string):\n",
    "    result = {(i,j):ch for i,line in enumerate(position_string.split('\\n'))\\\n",
    "                    for j,ch in enumerate(line) \\\n",
    "                    if ch in '.ABCD'}\n",
    "    for (i,j),val in result.items():\n",
    "        if val=='.':\n",
    "            result[(i,j)]=None\n",
    "    return result\n",
    "\n",
    "def make_string(position_dict, row_count=3):\n",
    "    rows = [[\"#\"]+[\".\"]*11+[\"#\"],\n",
    "            [ch for ch in \"###.#.#.#.###\"]]\n",
    "    for i in range(row_count-2):\n",
    "        rows.append([ch for ch in \"  #.#.#.#.#\"])\n",
    "    for (i,j),piece in position_dict.items():\n",
    "        if piece and piece in 'ABCD':\n",
    "            rows[i][j]=piece\n",
    "    return '\\n'.join(''.join(row) for row in rows)\n",
    "\n",
    "home = {ch:2*i+3 for i,ch in enumerate('ABCD')}"
   ]
  },
  {
   "cell_type": "code",
   "execution_count": 111,
   "metadata": {},
   "outputs": [],
   "source": [
    "def new_state(position, move):\n",
    "    result = {key:val for key,val in position.items()}\n",
    "    result[move[0]],result[move[1]]=result[move[1]],result[move[0]]\n",
    "    return result\n",
    "\n",
    "def legal_moves(position):\n",
    "    result = []\n",
    "    for (i,j),piece in position.items():\n",
    "        if piece:\n",
    "            if i==0:\n",
    "                # piece tries to go home (along row first)\n",
    "                n = home[piece]\n",
    "                r = 1\n",
    "                if all(not position[(0,x)] for x in range(min(n,j)+1,max(n,j))) \\\n",
    "                 and (n==j or not position[(0,n)]):\n",
    "                    while (r,n) in position:\n",
    "                        r += 1\n",
    "                    if all(position[(k,n)] in [None, piece] for k in range(1,r)):\n",
    "                        r -= 1\n",
    "                        while not((r,n) in position and not position[(r,n)]):\n",
    "                            r -= 1\n",
    "                        result.append(((i,j),(r,n)))\n",
    "            else:\n",
    "                # piece makes sure it can\n",
    "                # leave... \n",
    "                r = max(k[0]+1 for k in position)\n",
    "                if not position[(i-1,j)] and (any(home[position[(k,j)]] != j \\\n",
    "                                                 for k in range(i,r))): \n",
    "                    # picks from among\n",
    "                    # all available 0-row spots\n",
    "                    left,right=j,j\n",
    "                    while (0,right) in position and not position[(0,right)]:\n",
    "                        right += 1\n",
    "                    while (0,left) in position and not position[(0,left)]:\n",
    "                        left -= 1\n",
    "                    result.extend([((i,j), (0,n)) for n in range(left+1,j) \\\n",
    "                                  if n not in home.values()])\n",
    "                    result.extend([((i,j), (0,n)) for n in range(j+1,right) \\\n",
    "                                  if n not in home.values()])\n",
    "    return result\n",
    "                \n",
    "        \n",
    "def cost(position, move):\n",
    "    (a,b),(c,d) = move\n",
    "    return 10**'ABCD'.index(position[(a,b)])*(abs(d-b)+abs(c-a))\n",
    "    \n",
    "def is_finished(position):\n",
    "    return all(not piece or (i>0 and home[piece]==j) for (i,j),piece in position.items())"
   ]
  },
  {
   "cell_type": "code",
   "execution_count": 112,
   "metadata": {},
   "outputs": [
    {
     "name": "stdout",
     "output_type": "stream",
     "text": [
      "49803\n",
      "CPU times: user 13 s, sys: 137 ms, total: 13.1 s\n",
      "Wall time: 13.3 s\n"
     ]
    }
   ],
   "source": [
    "%%time\n",
    "\n",
    "# I wonder - how much would this be improved by using a min heap instead?\n",
    "# since removing elements is costly, for stale scores, we would be popping from the heap\n",
    "# until finding one not in `visited_positions`.  Note also that the use of\n",
    "# `to_consider` above appears completely redundant - if not wrong-making.\n",
    "# But checking `visited_positions` while popping off the heap will be enough,\n",
    "# since we're guaranteed that any updates to a position will have been dealt\n",
    "# with before the stale scores.\n",
    "\n",
    "best_scores = collections.defaultdict(lambda:float('inf'))\n",
    "best_scores[starting_position_string]=0\n",
    "\n",
    "prev = {starting_position_string:None}\n",
    "dist = {starting_position_string:0}\n",
    "visited_positions = set()\n",
    "position_heap = [(0,starting_position_string)]\n",
    "row_count = len(starting_position_string.split('\\n'))\n",
    "\n",
    "start_time = time.time()\n",
    "last_check = start_time\n",
    "\n",
    "max_dist = 0\n",
    "while end_position_string not in visited_positions:\n",
    "    if time.time()-last_check > 300:\n",
    "        last_check = time.time()\n",
    "        print('{}s elapsed; {} positions visited (distance at most {}); {} to consider.'.format(\n",
    "            round((last_check-start_time)/10,2),\n",
    "            len(visited_positions), \n",
    "            max_dist,\n",
    "            len(position_heap)\n",
    "        ))\n",
    "\n",
    "    current_position = None\n",
    "    while not current_position or current_position in visited_positions:\n",
    "        current_position = heapq.heappop(position_heap)[1]\n",
    "    position_dict = make_dict(current_position)\n",
    "    for move in legal_moves(position_dict):\n",
    "        new_position = make_string(new_state(position_dict, move),row_count)\n",
    "        if new_position not in visited_positions:\n",
    "            new_score = best_scores[current_position] + cost(position_dict,move)\n",
    "            if new_score < best_scores[new_position]:\n",
    "                heapq.heappush(position_heap, \n",
    "                              (new_score, new_position))\n",
    "                best_scores[new_position] = new_score\n",
    "                prev[new_position] = current_position\n",
    "                dist[new_position] = dist[current_position]+1\n",
    "                max_dist = max(max_dist,dist[new_position])\n",
    "    visited_positions.add(current_position)\n",
    "    \n",
    "print(best_scores[end_position_string])"
   ]
  },
  {
   "cell_type": "code",
   "execution_count": 113,
   "metadata": {
    "scrolled": false
   },
   "outputs": [
    {
     "data": {
      "text/plain": [
       "\"\\nimport bisect\\nimport time\\n\\nbest_scores = collections.defaultdict(lambda:float('inf'))\\nbest_scores[starting_position_string]=0\\n\\nprev = {starting_position_string:None}\\ndist = {starting_position_string:0}\\nvisited_positions = set()\\nsorted_positions = [(0,starting_position_string)]\\nrow_count = len(starting_position_string.split('\\n'))\\n\\nto_consider = {starting_position_string}\\n\\nstart_time = time.time()\\nlast_check = start_time\\n\\nmax_dist = 0\\nwhile end_position_string not in visited_positions:\\n    if time.time()-last_check > 300:\\n        last_check = time.time()\\n        print('{}s elapsed; {} positions visited (distance at most {}); {} to consider.'.format(\\n            round((last_check-start_time)/60,2),\\n            len(visited_positions), \\n            max_dist,\\n            len(to_consider)\\n        ))\\n\\n    current_position = None\\n    while current_position not in to_consider:\\n        current_position = sorted_positions.pop(0)[1]\\n    \\n    to_consider.discard(current_position)\\n    \\n    position_dict = make_dict(current_position)\\n    for move in legal_moves(position_dict):\\n        new_position = make_string(new_state(position_dict, move),row_count)\\n        if new_position not in visited_positions:\\n            new_score = best_scores[current_position] + cost(position_dict,move)\\n            if new_score < best_scores[new_position]:\\n                j = bisect.bisect_left(sorted_positions,\\n                                                        (best_scores[new_position], new_position)\\n                                                       )\\n                if j < len(sorted_positions) and sorted_positions[j] == (best_scores[new_position], new_position):\\n                    sorted_positions.pop(j)\\n                best_scores[new_position] = new_score\\n                prev[new_position] = current_position\\n                dist[new_position] = dist[current_position]+1\\n                max_dist = max(max_dist,dist[new_position])\\n                to_consider.add(new_position)\\n                bisect.insort_left(sorted_positions, (new_score, new_position))\\n    visited_positions.add(current_position)\\n    \\nprint(best_scores[end_position_string])\\n\""
      ]
     },
     "execution_count": 113,
     "metadata": {},
     "output_type": "execute_result"
    }
   ],
   "source": [
    "# below is basically a stupid desperate attempt to have\n",
    "# a hashable data structure that allows O(1) fetching of\n",
    "# min element by value.\n",
    "\"\"\"\n",
    "import bisect\n",
    "import time\n",
    "\n",
    "best_scores = collections.defaultdict(lambda:float('inf'))\n",
    "best_scores[starting_position_string]=0\n",
    "\n",
    "prev = {starting_position_string:None}\n",
    "dist = {starting_position_string:0}\n",
    "visited_positions = set()\n",
    "sorted_positions = [(0,starting_position_string)]\n",
    "row_count = len(starting_position_string.split('\\n'))\n",
    "\n",
    "to_consider = {starting_position_string}\n",
    "\n",
    "start_time = time.time()\n",
    "last_check = start_time\n",
    "\n",
    "max_dist = 0\n",
    "while end_position_string not in visited_positions:\n",
    "    if time.time()-last_check > 300:\n",
    "        last_check = time.time()\n",
    "        print('{}s elapsed; {} positions visited (distance at most {}); {} to consider.'.format(\n",
    "            round((last_check-start_time)/60,2),\n",
    "            len(visited_positions), \n",
    "            max_dist,\n",
    "            len(to_consider)\n",
    "        ))\n",
    "\n",
    "    current_position = None\n",
    "    while current_position not in to_consider:\n",
    "        current_position = sorted_positions.pop(0)[1]\n",
    "    \n",
    "    to_consider.discard(current_position)\n",
    "    \n",
    "    position_dict = make_dict(current_position)\n",
    "    for move in legal_moves(position_dict):\n",
    "        new_position = make_string(new_state(position_dict, move),row_count)\n",
    "        if new_position not in visited_positions:\n",
    "            new_score = best_scores[current_position] + cost(position_dict,move)\n",
    "            if new_score < best_scores[new_position]:\n",
    "                j = bisect.bisect_left(sorted_positions,\n",
    "                                                        (best_scores[new_position], new_position)\n",
    "                                                       )\n",
    "                if j < len(sorted_positions) and sorted_positions[j] == (best_scores[new_position], new_position):\n",
    "                    sorted_positions.pop(j)\n",
    "                best_scores[new_position] = new_score\n",
    "                prev[new_position] = current_position\n",
    "                dist[new_position] = dist[current_position]+1\n",
    "                max_dist = max(max_dist,dist[new_position])\n",
    "                to_consider.add(new_position)\n",
    "                bisect.insort_left(sorted_positions, (new_score, new_position))\n",
    "    visited_positions.add(current_position)\n",
    "    \n",
    "print(best_scores[end_position_string])\n",
    "\"\"\""
   ]
  },
  {
   "cell_type": "code",
   "execution_count": 114,
   "metadata": {},
   "outputs": [
    {
     "data": {
      "text/plain": [
       "3.7891666666666666"
      ]
     },
     "execution_count": 114,
     "metadata": {},
     "output_type": "execute_result"
    }
   ],
   "source": [
    "13641/3600"
   ]
  },
  {
   "cell_type": "code",
   "execution_count": 115,
   "metadata": {
    "scrolled": true
   },
   "outputs": [
    {
     "name": "stdout",
     "output_type": "stream",
     "text": [
      "#...........#\n",
      "###A#D#A#C###\n",
      "  #D#C#B#A#\n",
      "  #D#B#A#C#\n",
      "  #C#D#B#B#\n",
      "move: [(1, 3), (0, 2)], cost: 2\n",
      "#.\u001b[5;30;41mA\u001b[0m.........#\n",
      "###\u001b[5;30;42m.\u001b[0m#D#A#C###\n",
      "  #D#C#B#A#\n",
      "  #D#B#A#C#\n",
      "  #C#D#B#B#\n",
      "total so far: 2\n",
      "move: [(2, 3), (0, 11)], cost: 10000\n",
      "#.A........\u001b[5;30;41mD\u001b[0m#\n",
      "###.#D#A#C###\n",
      "  #\u001b[5;30;42m.\u001b[0m#C#B#A#\n",
      "  #D#B#A#C#\n",
      "  #C#D#B#B#\n",
      "total so far: 10002\n",
      "move: [(3, 3), (0, 10)], cost: 10000\n",
      "#.A.......\u001b[5;30;41mD\u001b[0mD#\n",
      "###.#D#A#C###\n",
      "  #.#C#B#A#\n",
      "  #\u001b[5;30;42m.\u001b[0m#B#A#C#\n",
      "  #C#D#B#B#\n",
      "total so far: 20002\n",
      "move: [(4, 3), (0, 8)], cost: 900\n",
      "#.A.....\u001b[5;30;41mC\u001b[0m.DD#\n",
      "###.#D#A#C###\n",
      "  #.#C#B#A#\n",
      "  #.#B#A#C#\n",
      "  #\u001b[5;30;42m.\u001b[0m#D#B#B#\n",
      "total so far: 20902\n",
      "move: [(1, 7), (0, 6)], cost: 2\n",
      "#.A...\u001b[5;30;41mA\u001b[0m.C.DD#\n",
      "###.#D#\u001b[5;30;42m.\u001b[0m#C###\n",
      "  #.#C#B#A#\n",
      "  #.#B#A#C#\n",
      "  #.#D#B#B#\n",
      "total so far: 20904\n",
      "move: [(0, 2), (4, 3)], cost: 5\n",
      "#.\u001b[5;30;42m.\u001b[0m...A.C.DD#\n",
      "###.#D#.#C###\n",
      "  #.#C#B#A#\n",
      "  #.#B#A#C#\n",
      "  #\u001b[5;30;41mA\u001b[0m#D#B#B#\n",
      "total so far: 20909\n",
      "move: [(0, 6), (3, 3)], cost: 6\n",
      "#.....\u001b[5;30;42m.\u001b[0m.C.DD#\n",
      "###.#D#.#C###\n",
      "  #.#C#B#A#\n",
      "  #\u001b[5;30;41mA\u001b[0m#B#A#C#\n",
      "  #A#D#B#B#\n",
      "total so far: 20915\n",
      "move: [(2, 7), (0, 1)], cost: 80\n",
      "#\u001b[5;30;41mB\u001b[0m......C.DD#\n",
      "###.#D#.#C###\n",
      "  #.#C#\u001b[5;30;42m.\u001b[0m#A#\n",
      "  #A#B#A#C#\n",
      "  #A#D#B#B#\n",
      "total so far: 20995\n",
      "move: [(3, 7), (0, 6)], cost: 4\n",
      "#B....\u001b[5;30;41mA\u001b[0m.C.DD#\n",
      "###.#D#.#C###\n",
      "  #.#C#.#A#\n",
      "  #A#B#\u001b[5;30;42m.\u001b[0m#C#\n",
      "  #A#D#B#B#\n",
      "total so far: 20999\n",
      "move: [(0, 6), (2, 3)], cost: 5\n",
      "#B....\u001b[5;30;42m.\u001b[0m.C.DD#\n",
      "###.#D#.#C###\n",
      "  #\u001b[5;30;41mA\u001b[0m#C#.#A#\n",
      "  #A#B#.#C#\n",
      "  #A#D#B#B#\n",
      "total so far: 21004\n",
      "move: [(4, 7), (0, 2)], cost: 90\n",
      "#B\u001b[5;30;41mB\u001b[0m.....C.DD#\n",
      "###.#D#.#C###\n",
      "  #A#C#.#A#\n",
      "  #A#B#.#C#\n",
      "  #A#D#\u001b[5;30;42m.\u001b[0m#B#\n",
      "total so far: 21094\n",
      "move: [(0, 8), (4, 7)], cost: 500\n",
      "#BB.....\u001b[5;30;42m.\u001b[0m.DD#\n",
      "###.#D#.#C###\n",
      "  #A#C#.#A#\n",
      "  #A#B#.#C#\n",
      "  #A#D#\u001b[5;30;41mC\u001b[0m#B#\n",
      "total so far: 21594\n",
      "move: [(1, 9), (0, 8)], cost: 200\n",
      "#BB.....\u001b[5;30;41mC\u001b[0m.DD#\n",
      "###.#D#.#\u001b[5;30;42m.\u001b[0m###\n",
      "  #A#C#.#A#\n",
      "  #A#B#.#C#\n",
      "  #A#D#C#B#\n",
      "total so far: 21794\n",
      "move: [(0, 8), (3, 7)], cost: 400\n",
      "#BB.....\u001b[5;30;42m.\u001b[0m.DD#\n",
      "###.#D#.#.###\n",
      "  #A#C#.#A#\n",
      "  #A#B#\u001b[5;30;41mC\u001b[0m#C#\n",
      "  #A#D#C#B#\n",
      "total so far: 22194\n",
      "move: [(2, 9), (0, 8)], cost: 3\n",
      "#BB.....\u001b[5;30;41mA\u001b[0m.DD#\n",
      "###.#D#.#.###\n",
      "  #A#C#.#\u001b[5;30;42m.\u001b[0m#\n",
      "  #A#B#C#C#\n",
      "  #A#D#C#B#\n",
      "total so far: 22197\n",
      "move: [(0, 8), (1, 3)], cost: 6\n",
      "#BB.....\u001b[5;30;42m.\u001b[0m.DD#\n",
      "###\u001b[5;30;41mA\u001b[0m#D#.#.###\n",
      "  #A#C#.#.#\n",
      "  #A#B#C#C#\n",
      "  #A#D#C#B#\n",
      "total so far: 22203\n",
      "move: [(3, 9), (0, 8)], cost: 400\n",
      "#BB.....\u001b[5;30;41mC\u001b[0m.DD#\n",
      "###A#D#.#.###\n",
      "  #A#C#.#.#\n",
      "  #A#B#C#\u001b[5;30;42m.\u001b[0m#\n",
      "  #A#D#C#B#\n",
      "total so far: 22603\n",
      "move: [(0, 8), (2, 7)], cost: 300\n",
      "#BB.....\u001b[5;30;42m.\u001b[0m.DD#\n",
      "###A#D#.#.###\n",
      "  #A#C#\u001b[5;30;41mC\u001b[0m#.#\n",
      "  #A#B#C#.#\n",
      "  #A#D#C#B#\n",
      "total so far: 22903\n",
      "move: [(4, 9), (0, 4)], cost: 90\n",
      "#BB.\u001b[5;30;41mB\u001b[0m.....DD#\n",
      "###A#D#.#.###\n",
      "  #A#C#C#.#\n",
      "  #A#B#C#.#\n",
      "  #A#D#C#\u001b[5;30;42m.\u001b[0m#\n",
      "total so far: 22993\n",
      "move: [(1, 5), (0, 8)], cost: 4000\n",
      "#BB.B...\u001b[5;30;41mD\u001b[0m.DD#\n",
      "###A#\u001b[5;30;42m.\u001b[0m#.#.###\n",
      "  #A#C#C#.#\n",
      "  #A#B#C#.#\n",
      "  #A#D#C#.#\n",
      "total so far: 26993\n",
      "move: [(2, 5), (0, 6)], cost: 300\n",
      "#BB.B.\u001b[5;30;41mC\u001b[0m.D.DD#\n",
      "###A#.#.#.###\n",
      "  #A#\u001b[5;30;42m.\u001b[0m#C#.#\n",
      "  #A#B#C#.#\n",
      "  #A#D#C#.#\n",
      "total so far: 27293\n",
      "move: [(0, 6), (1, 7)], cost: 200\n",
      "#BB.B.\u001b[5;30;42m.\u001b[0m.D.DD#\n",
      "###A#.#\u001b[5;30;41mC\u001b[0m#.###\n",
      "  #A#.#C#.#\n",
      "  #A#B#C#.#\n",
      "  #A#D#C#.#\n",
      "total so far: 27493\n",
      "move: [(0, 8), (4, 9)], cost: 5000\n",
      "#BB.B...\u001b[5;30;42m.\u001b[0m.DD#\n",
      "###A#.#C#.###\n",
      "  #A#.#C#.#\n",
      "  #A#B#C#.#\n",
      "  #A#D#C#\u001b[5;30;41mD\u001b[0m#\n",
      "total so far: 32493\n",
      "move: [(0, 10), (3, 9)], cost: 4000\n",
      "#BB.B.....\u001b[5;30;42m.\u001b[0mD#\n",
      "###A#.#C#.###\n",
      "  #A#.#C#.#\n",
      "  #A#B#C#\u001b[5;30;41mD\u001b[0m#\n",
      "  #A#D#C#D#\n",
      "total so far: 36493\n",
      "move: [(3, 5), (0, 10)], cost: 80\n",
      "#BB.B.....\u001b[5;30;41mB\u001b[0mD#\n",
      "###A#.#C#.###\n",
      "  #A#.#C#.#\n",
      "  #A#\u001b[5;30;42m.\u001b[0m#C#D#\n",
      "  #A#D#C#D#\n",
      "total so far: 36573\n",
      "move: [(4, 5), (0, 6)], cost: 5000\n",
      "#BB.B.\u001b[5;30;41mD\u001b[0m...BD#\n",
      "###A#.#C#.###\n",
      "  #A#.#C#.#\n",
      "  #A#.#C#D#\n",
      "  #A#\u001b[5;30;42m.\u001b[0m#C#D#\n",
      "total so far: 41573\n",
      "move: [(0, 4), (4, 5)], cost: 50\n",
      "#BB.\u001b[5;30;42m.\u001b[0m.D...BD#\n",
      "###A#.#C#.###\n",
      "  #A#.#C#.#\n",
      "  #A#.#C#D#\n",
      "  #A#\u001b[5;30;41mB\u001b[0m#C#D#\n",
      "total so far: 41623\n",
      "move: [(0, 2), (3, 5)], cost: 60\n",
      "#B\u001b[5;30;42m.\u001b[0m...D...BD#\n",
      "###A#.#C#.###\n",
      "  #A#.#C#.#\n",
      "  #A#\u001b[5;30;41mB\u001b[0m#C#D#\n",
      "  #A#B#C#D#\n",
      "total so far: 41683\n",
      "move: [(0, 1), (2, 5)], cost: 60\n",
      "#\u001b[5;30;42m.\u001b[0m....D...BD#\n",
      "###A#.#C#.###\n",
      "  #A#\u001b[5;30;41mB\u001b[0m#C#.#\n",
      "  #A#B#C#D#\n",
      "  #A#B#C#D#\n",
      "total so far: 41743\n",
      "move: [(0, 6), (2, 9)], cost: 5000\n",
      "#.....\u001b[5;30;42m.\u001b[0m...BD#\n",
      "###A#.#C#.###\n",
      "  #A#B#C#\u001b[5;30;41mD\u001b[0m#\n",
      "  #A#B#C#D#\n",
      "  #A#B#C#D#\n",
      "total so far: 46743\n",
      "move: [(0, 10), (1, 5)], cost: 60\n",
      "#.........\u001b[5;30;42m.\u001b[0mD#\n",
      "###A#\u001b[5;30;41mB\u001b[0m#C#.###\n",
      "  #A#B#C#D#\n",
      "  #A#B#C#D#\n",
      "  #A#B#C#D#\n",
      "total so far: 46803\n",
      "move: [(0, 11), (1, 9)], cost: 3000\n",
      "#..........\u001b[5;30;42m.\u001b[0m#\n",
      "###A#B#C#\u001b[5;30;41mD\u001b[0m###\n",
      "  #A#B#C#D#\n",
      "  #A#B#C#D#\n",
      "  #A#B#C#D#\n",
      "total so far: 49803\n",
      "#...........#\n",
      "###A#D#A#C###\n",
      "  #D#C#B#A#\n",
      "  #D#B#A#C#\n",
      "  #C#D#B#B#\n"
     ]
    }
   ],
   "source": [
    "def highlight(string, index, color='yellow'):\n",
    "    string_list = [c for c in string]\n",
    "    color_code = {'black': '\\x1b[5;30;40m',\n",
    "                 'red':'\\x1b[5;30;41m',\n",
    "                 'green': '\\x1b[5;30;42m',\n",
    "                 'yellow': '\\x1b[5;30;43m',\n",
    "                 'blue': '\\x1b[5;30;44m',\n",
    "                 'purple': '\\x1b[5;30;45m'}\n",
    "    string_list[index] =  color_code[color] + string_list[index] + '\\x1b[0m'\n",
    "    return ''.join(string_list)\n",
    "\n",
    "current_position = end_position_string\n",
    "result = []\n",
    "while current_position != starting_position_string:\n",
    "    previous_position = prev[current_position]\n",
    "    prev_list = previous_position.split('\\n')\n",
    "    curr_list = current_position.split('\\n')\n",
    "    diff = [(i,j) for i,row in enumerate(prev_list) for j,r in enumerate(row) if \\\n",
    "           prev_list[i][j] != curr_list[i][j]]\n",
    "    for (i,j) in diff:\n",
    "        if curr_list[i][j] == '.':\n",
    "            curr_list[i] = highlight(curr_list[i],j,'green')\n",
    "        else:\n",
    "            curr_list[i] = highlight(curr_list[i],j,'red')\n",
    "    (i,j) = diff[0]\n",
    "    if prev_list[i][j] not in 'ABCD':\n",
    "        diff = [diff[1],diff[0]]\n",
    "    move_cost = cost(make_dict(previous_position),diff)\n",
    "    chunk = ['move: {}, cost: {}'.format(diff, move_cost),\n",
    "             '\\n'.join(curr_list),\n",
    "             move_cost]\n",
    "    current_position = previous_position\n",
    "    result.append(chunk)\n",
    "\n",
    "total_cost = 0\n",
    "print(starting_position_string)\n",
    "for chunk in result[::-1]:\n",
    "    for row in chunk[:-1]:\n",
    "        print(row)\n",
    "    total_cost += chunk[-1]\n",
    "    print('total so far: {}'.format(total_cost))\n",
    "print(current_position)\n",
    "    \n",
    "    "
   ]
  },
  {
   "cell_type": "code",
   "execution_count": 116,
   "metadata": {
    "scrolled": true
   },
   "outputs": [
    {
     "name": "stdout",
     "output_type": "stream",
     "text": [
      "#...........#\n",
      "###A#D#A#C###\n",
      "  #D#C#B#A#\n",
      "  #D#B#A#C#\n",
      "  #C#D#B#B#\n",
      "move: [(1, 3), (0, 2)], cost: 2\n",
      "#.\u001b[5;30;41mA\u001b[0m.........#\n",
      "###\u001b[5;30;42m.\u001b[0m#D#A#C###\n",
      "  #D#C#B#A#\n",
      "  #D#B#A#C#\n",
      "  #C#D#B#B#\n",
      "total so far: 2\n",
      "move: [(2, 3), (0, 11)], cost: 10000\n",
      "#.A........\u001b[5;30;41mD\u001b[0m#\n",
      "###.#D#A#C###\n",
      "  #\u001b[5;30;42m.\u001b[0m#C#B#A#\n",
      "  #D#B#A#C#\n",
      "  #C#D#B#B#\n",
      "total so far: 10002\n",
      "move: [(3, 3), (0, 10)], cost: 10000\n",
      "#.A.......\u001b[5;30;41mD\u001b[0mD#\n",
      "###.#D#A#C###\n",
      "  #.#C#B#A#\n",
      "  #\u001b[5;30;42m.\u001b[0m#B#A#C#\n",
      "  #C#D#B#B#\n",
      "total so far: 20002\n",
      "move: [(4, 3), (0, 8)], cost: 900\n",
      "#.A.....\u001b[5;30;41mC\u001b[0m.DD#\n",
      "###.#D#A#C###\n",
      "  #.#C#B#A#\n",
      "  #.#B#A#C#\n",
      "  #\u001b[5;30;42m.\u001b[0m#D#B#B#\n",
      "total so far: 20902\n",
      "move: [(1, 7), (0, 6)], cost: 2\n",
      "#.A...\u001b[5;30;41mA\u001b[0m.C.DD#\n",
      "###.#D#\u001b[5;30;42m.\u001b[0m#C###\n",
      "  #.#C#B#A#\n",
      "  #.#B#A#C#\n",
      "  #.#D#B#B#\n",
      "total so far: 20904\n",
      "move: [(0, 2), (4, 3)], cost: 5\n",
      "#.\u001b[5;30;42m.\u001b[0m...A.C.DD#\n",
      "###.#D#.#C###\n",
      "  #.#C#B#A#\n",
      "  #.#B#A#C#\n",
      "  #\u001b[5;30;41mA\u001b[0m#D#B#B#\n",
      "total so far: 20909\n",
      "move: [(0, 6), (3, 3)], cost: 6\n",
      "#.....\u001b[5;30;42m.\u001b[0m.C.DD#\n",
      "###.#D#.#C###\n",
      "  #.#C#B#A#\n",
      "  #\u001b[5;30;41mA\u001b[0m#B#A#C#\n",
      "  #A#D#B#B#\n",
      "total so far: 20915\n",
      "move: [(2, 7), (0, 1)], cost: 80\n",
      "#\u001b[5;30;41mB\u001b[0m......C.DD#\n",
      "###.#D#.#C###\n",
      "  #.#C#\u001b[5;30;42m.\u001b[0m#A#\n",
      "  #A#B#A#C#\n",
      "  #A#D#B#B#\n",
      "total so far: 20995\n",
      "move: [(3, 7), (0, 6)], cost: 4\n",
      "#B....\u001b[5;30;41mA\u001b[0m.C.DD#\n",
      "###.#D#.#C###\n",
      "  #.#C#.#A#\n",
      "  #A#B#\u001b[5;30;42m.\u001b[0m#C#\n",
      "  #A#D#B#B#\n",
      "total so far: 20999\n",
      "move: [(0, 6), (2, 3)], cost: 5\n",
      "#B....\u001b[5;30;42m.\u001b[0m.C.DD#\n",
      "###.#D#.#C###\n",
      "  #\u001b[5;30;41mA\u001b[0m#C#.#A#\n",
      "  #A#B#.#C#\n",
      "  #A#D#B#B#\n",
      "total so far: 21004\n",
      "move: [(4, 7), (0, 2)], cost: 90\n",
      "#B\u001b[5;30;41mB\u001b[0m.....C.DD#\n",
      "###.#D#.#C###\n",
      "  #A#C#.#A#\n",
      "  #A#B#.#C#\n",
      "  #A#D#\u001b[5;30;42m.\u001b[0m#B#\n",
      "total so far: 21094\n",
      "move: [(0, 8), (4, 7)], cost: 500\n",
      "#BB.....\u001b[5;30;42m.\u001b[0m.DD#\n",
      "###.#D#.#C###\n",
      "  #A#C#.#A#\n",
      "  #A#B#.#C#\n",
      "  #A#D#\u001b[5;30;41mC\u001b[0m#B#\n",
      "total so far: 21594\n",
      "move: [(1, 9), (0, 8)], cost: 200\n",
      "#BB.....\u001b[5;30;41mC\u001b[0m.DD#\n",
      "###.#D#.#\u001b[5;30;42m.\u001b[0m###\n",
      "  #A#C#.#A#\n",
      "  #A#B#.#C#\n",
      "  #A#D#C#B#\n",
      "total so far: 21794\n",
      "move: [(0, 8), (3, 7)], cost: 400\n",
      "#BB.....\u001b[5;30;42m.\u001b[0m.DD#\n",
      "###.#D#.#.###\n",
      "  #A#C#.#A#\n",
      "  #A#B#\u001b[5;30;41mC\u001b[0m#C#\n",
      "  #A#D#C#B#\n",
      "total so far: 22194\n",
      "move: [(2, 9), (0, 8)], cost: 3\n",
      "#BB.....\u001b[5;30;41mA\u001b[0m.DD#\n",
      "###.#D#.#.###\n",
      "  #A#C#.#\u001b[5;30;42m.\u001b[0m#\n",
      "  #A#B#C#C#\n",
      "  #A#D#C#B#\n",
      "total so far: 22197\n",
      "move: [(0, 8), (1, 3)], cost: 6\n",
      "#BB.....\u001b[5;30;42m.\u001b[0m.DD#\n",
      "###\u001b[5;30;41mA\u001b[0m#D#.#.###\n",
      "  #A#C#.#.#\n",
      "  #A#B#C#C#\n",
      "  #A#D#C#B#\n",
      "total so far: 22203\n",
      "move: [(3, 9), (0, 8)], cost: 400\n",
      "#BB.....\u001b[5;30;41mC\u001b[0m.DD#\n",
      "###A#D#.#.###\n",
      "  #A#C#.#.#\n",
      "  #A#B#C#\u001b[5;30;42m.\u001b[0m#\n",
      "  #A#D#C#B#\n",
      "total so far: 22603\n",
      "move: [(0, 8), (2, 7)], cost: 300\n",
      "#BB.....\u001b[5;30;42m.\u001b[0m.DD#\n",
      "###A#D#.#.###\n",
      "  #A#C#\u001b[5;30;41mC\u001b[0m#.#\n",
      "  #A#B#C#.#\n",
      "  #A#D#C#B#\n",
      "total so far: 22903\n",
      "move: [(4, 9), (0, 4)], cost: 90\n",
      "#BB.\u001b[5;30;41mB\u001b[0m.....DD#\n",
      "###A#D#.#.###\n",
      "  #A#C#C#.#\n",
      "  #A#B#C#.#\n",
      "  #A#D#C#\u001b[5;30;42m.\u001b[0m#\n",
      "total so far: 22993\n",
      "move: [(1, 5), (0, 8)], cost: 4000\n",
      "#BB.B...\u001b[5;30;41mD\u001b[0m.DD#\n",
      "###A#\u001b[5;30;42m.\u001b[0m#.#.###\n",
      "  #A#C#C#.#\n",
      "  #A#B#C#.#\n",
      "  #A#D#C#.#\n",
      "total so far: 26993\n",
      "move: [(2, 5), (0, 6)], cost: 300\n",
      "#BB.B.\u001b[5;30;41mC\u001b[0m.D.DD#\n",
      "###A#.#.#.###\n",
      "  #A#\u001b[5;30;42m.\u001b[0m#C#.#\n",
      "  #A#B#C#.#\n",
      "  #A#D#C#.#\n",
      "total so far: 27293\n",
      "move: [(0, 6), (1, 7)], cost: 200\n",
      "#BB.B.\u001b[5;30;42m.\u001b[0m.D.DD#\n",
      "###A#.#\u001b[5;30;41mC\u001b[0m#.###\n",
      "  #A#.#C#.#\n",
      "  #A#B#C#.#\n",
      "  #A#D#C#.#\n",
      "total so far: 27493\n",
      "move: [(0, 8), (4, 9)], cost: 5000\n",
      "#BB.B...\u001b[5;30;42m.\u001b[0m.DD#\n",
      "###A#.#C#.###\n",
      "  #A#.#C#.#\n",
      "  #A#B#C#.#\n",
      "  #A#D#C#\u001b[5;30;41mD\u001b[0m#\n",
      "total so far: 32493\n",
      "move: [(0, 10), (3, 9)], cost: 4000\n",
      "#BB.B.....\u001b[5;30;42m.\u001b[0mD#\n",
      "###A#.#C#.###\n",
      "  #A#.#C#.#\n",
      "  #A#B#C#\u001b[5;30;41mD\u001b[0m#\n",
      "  #A#D#C#D#\n",
      "total so far: 36493\n",
      "move: [(3, 5), (0, 10)], cost: 80\n",
      "#BB.B.....\u001b[5;30;41mB\u001b[0mD#\n",
      "###A#.#C#.###\n",
      "  #A#.#C#.#\n",
      "  #A#\u001b[5;30;42m.\u001b[0m#C#D#\n",
      "  #A#D#C#D#\n",
      "total so far: 36573\n",
      "move: [(4, 5), (0, 6)], cost: 5000\n",
      "#BB.B.\u001b[5;30;41mD\u001b[0m...BD#\n",
      "###A#.#C#.###\n",
      "  #A#.#C#.#\n",
      "  #A#.#C#D#\n",
      "  #A#\u001b[5;30;42m.\u001b[0m#C#D#\n",
      "total so far: 41573\n",
      "move: [(0, 4), (4, 5)], cost: 50\n",
      "#BB.\u001b[5;30;42m.\u001b[0m.D...BD#\n",
      "###A#.#C#.###\n",
      "  #A#.#C#.#\n",
      "  #A#.#C#D#\n",
      "  #A#\u001b[5;30;41mB\u001b[0m#C#D#\n",
      "total so far: 41623\n",
      "move: [(0, 2), (3, 5)], cost: 60\n",
      "#B\u001b[5;30;42m.\u001b[0m...D...BD#\n",
      "###A#.#C#.###\n",
      "  #A#.#C#.#\n",
      "  #A#\u001b[5;30;41mB\u001b[0m#C#D#\n",
      "  #A#B#C#D#\n",
      "total so far: 41683\n",
      "move: [(0, 1), (2, 5)], cost: 60\n",
      "#\u001b[5;30;42m.\u001b[0m....D...BD#\n",
      "###A#.#C#.###\n",
      "  #A#\u001b[5;30;41mB\u001b[0m#C#.#\n",
      "  #A#B#C#D#\n",
      "  #A#B#C#D#\n",
      "total so far: 41743\n",
      "move: [(0, 6), (2, 9)], cost: 5000\n",
      "#.....\u001b[5;30;42m.\u001b[0m...BD#\n",
      "###A#.#C#.###\n",
      "  #A#B#C#\u001b[5;30;41mD\u001b[0m#\n",
      "  #A#B#C#D#\n",
      "  #A#B#C#D#\n",
      "total so far: 46743\n",
      "move: [(0, 10), (1, 5)], cost: 60\n",
      "#.........\u001b[5;30;42m.\u001b[0mD#\n",
      "###A#\u001b[5;30;41mB\u001b[0m#C#.###\n",
      "  #A#B#C#D#\n",
      "  #A#B#C#D#\n",
      "  #A#B#C#D#\n",
      "total so far: 46803\n",
      "move: [(0, 11), (1, 9)], cost: 3000\n",
      "#..........\u001b[5;30;42m.\u001b[0m#\n",
      "###A#B#C#\u001b[5;30;41mD\u001b[0m###\n",
      "  #A#B#C#D#\n",
      "  #A#B#C#D#\n",
      "  #A#B#C#D#\n",
      "total so far: 49803\n"
     ]
    }
   ],
   "source": [
    "current_position = end_position_string\n",
    "result = []\n",
    "while current_position != starting_position_string:\n",
    "    previous_position = prev[current_position]\n",
    "    prev_list = previous_position.split('\\n')\n",
    "    curr_list = current_position.split('\\n')\n",
    "    diff = [(i,j) for i,row in enumerate(prev_list) for j,r in enumerate(row) if \\\n",
    "           prev_list[i][j] != curr_list[i][j]]\n",
    "    for (i,j) in diff:\n",
    "        if curr_list[i][j] == '.':\n",
    "            curr_list[i] = highlight(curr_list[i],j,'green')\n",
    "        else:\n",
    "            curr_list[i] = highlight(curr_list[i],j,'red')\n",
    "    (i,j) = diff[0]\n",
    "    if prev_list[i][j] not in 'ABCD':\n",
    "        diff = [diff[1],diff[0]]\n",
    "    move_cost = cost(make_dict(previous_position),diff)\n",
    "    chunk = ['move: {}, cost: {}'.format(diff, move_cost),\n",
    "             '\\n'.join(curr_list),\n",
    "             move_cost]\n",
    "    current_position = previous_position\n",
    "    result.append(chunk)\n",
    "\n",
    "total_cost = 0\n",
    "print(starting_position_string)\n",
    "for chunk in result[::-1]:\n",
    "    for row in chunk[:-1]:\n",
    "        print(row)\n",
    "    total_cost += chunk[-1]\n",
    "    print('total so far: {}'.format(total_cost))"
   ]
  },
  {
   "cell_type": "code",
   "execution_count": 117,
   "metadata": {},
   "outputs": [],
   "source": [
    "#24 automata\n",
    "\n",
    "import collections\n",
    "\n",
    "with open('/Users/sherwoodhachtman/Downloads/input24.txt') as f:\n",
    "    data = f.read()\n",
    "\n",
    "# data=\"\"\"inp w\n",
    "# add z w\n",
    "# mod z 2\n",
    "# div w 2\n",
    "# add y w\n",
    "# mod y 2\n",
    "# div w 2\n",
    "# add x w\n",
    "# mod x 2\n",
    "# div w 2\n",
    "# mod w 2\n",
    "# \"\"\"\n",
    "    \n",
    "rows = data.split('\\n')[:-1]\n",
    "instructions = [row.split(' ') for row in rows]\n",
    "\n",
    "def evaluate(instructions, n):\n",
    "    input_index = 0\n",
    "    num = str(n)\n",
    "    val = collections.defaultdict(int)\n",
    "    for instruction in instructions:\n",
    "        op,left = instruction[0],instruction[1]\n",
    "        if op == 'inp':\n",
    "            val[left] = int(num[input_index])\n",
    "            input_index += 1\n",
    "        else:\n",
    "            right_val = int(instruction[2]) if instruction[2].isnumeric()\\\n",
    "                     else int(val[instruction[2]])\n",
    "            if op == 'add':\n",
    "                val[left] = val[left] + right_val\n",
    "            elif op == 'mul':\n",
    "                val[left] = val[left] * right_val\n",
    "            elif op == 'eql':\n",
    "                val[left] = int(val[left] == right_val)\n",
    "            elif op == 'div':\n",
    "                if right_val == 0:\n",
    "                    return val | {'failure':input_index}\n",
    "                else:\n",
    "                    val[left] = val[left] // right_val\n",
    "            elif op == 'mod':\n",
    "                if val[left] < 0 or right_val <= 0:\n",
    "                    return val | {'failure':input_index}\n",
    "                else:\n",
    "                    val[left] = val[left] % right_val\n",
    "    return val"
   ]
  },
  {
   "cell_type": "code",
   "execution_count": 118,
   "metadata": {},
   "outputs": [],
   "source": [
    "def is_valid(instructions, n):\n",
    "    val = evaluate(instructions, n)\n",
    "    return 'failure' not in val and val['z'] == 0"
   ]
  },
  {
   "cell_type": "code",
   "execution_count": 120,
   "metadata": {
    "scrolled": true
   },
   "outputs": [],
   "source": [
    "# this cell is bad\n",
    "\n",
    "# n = 10**14-1\n",
    "# while True:\n",
    "#     num = str(n)\n",
    "#     # print(num)\n",
    "#     if '0' in num:\n",
    "#         i = num.index('0')\n",
    "#         if i <= 7:\n",
    "#             print('{}: 0 value bad'.format(num))\n",
    "#         num_list = list(num)\n",
    "#         num_list[i-1] = str(int(num_list[i-1])-1)\n",
    "#         for j in range(i, len(num_list)):\n",
    "#             num_list[j] = '9'\n",
    "#         n = int(''.join(num_list))\n",
    "#     else:\n",
    "#         val = evaluate(instructions, num)\n",
    "#         if 'failure' in val:\n",
    "#             i = val['failure']\n",
    "#             print(num)\n",
    "#             print('failed at index {}'.format(i))\n",
    "#             num_list = list(num)\n",
    "#             num_list[i] = str(int(num_list[i-1])-1)\n",
    "#             for j in range(i+1, len(num_list)):\n",
    "#                 num_list[j] = '9'\n",
    "#             n = int(''.join(num_list))            \n",
    "#         elif val['z'] == 0:\n",
    "#                 print('Success!')\n",
    "#                 break\n",
    "#         else:\n",
    "#             # print('Computed, but not valid (z-value = {})'.format(val['z']))\n",
    "#             n -= 1\n",
    "# print(n)"
   ]
  },
  {
   "cell_type": "code",
   "execution_count": 121,
   "metadata": {},
   "outputs": [],
   "source": [
    "opn = {'mul':'*',\n",
    "      'add':'+',\n",
    "      'div':'//',\n",
    "      'mod':'%',\n",
    "      'eql':'=='}\n",
    "\n",
    "def expression(instructions):\n",
    "    result = 'z'\n",
    "    input_index = 0\n",
    "    for instruction in instructions[::-1]:\n",
    "#         print(result, instruction)\n",
    "        [op,left] = instruction[:2]\n",
    "        if op == 'inp':\n",
    "            result = result.replace(left,'input({})'.format(input_index))\n",
    "            input_index += 1\n",
    "        else:\n",
    "            right = instruction[2]\n",
    "            sub = '(' + left + opn[op] + right + ')'\n",
    "            if left.isnumeric() and right.isnumeric():\n",
    "                sub = eval(sub)\n",
    "            elif right == '0':\n",
    "                if opn[op] == '*':\n",
    "                    sub = '0'\n",
    "                if opn[op] == '+':\n",
    "                    sub = left\n",
    "                if opn[op] in ['%', '//']:\n",
    "                    sub = 'NAN!'\n",
    "            result = result.replace(left,sub)\n",
    "    return result"
   ]
  },
  {
   "cell_type": "code",
   "execution_count": 122,
   "metadata": {
    "scrolled": false
   },
   "outputs": [
    {
     "data": {
      "text/plain": [
       "['(((z//1)*(((0+25)*(((((0+z)%26)+10)==input(0))==0))+1))+(((0+input(0))+10)*(((((0+z)%26)+10)==input(0))==0)))',\n",
       " '(((z//1)*(((0+25)*(((((0+z)%26)+13)==input(0))==0))+1))+(((0+input(0))+5)*(((((0+z)%26)+13)==input(0))==0)))',\n",
       " '(((z//1)*(((0+25)*(((((0+z)%26)+15)==input(0))==0))+1))+(((0+input(0))+12)*(((((0+z)%26)+15)==input(0))==0)))',\n",
       " '(((z//26)*(((0+25)*(((((0+z)%26)+-12)==input(0))==0))+1))+(((0+input(0))+12)*(((((0+z)%26)+-12)==input(0))==0)))',\n",
       " '(((z//1)*(((0+25)*(((((0+z)%26)+14)==input(0))==0))+1))+(((0+input(0))+6)*(((((0+z)%26)+14)==input(0))==0)))',\n",
       " '(((z//26)*(((0+25)*(((((0+z)%26)+-2)==input(0))==0))+1))+(((0+input(0))+4)*(((((0+z)%26)+-2)==input(0))==0)))',\n",
       " '(((z//1)*(((0+25)*(((((0+z)%26)+13)==input(0))==0))+1))+(((0+input(0))+15)*(((((0+z)%26)+13)==input(0))==0)))',\n",
       " '(((z//26)*(((0+25)*(((((0+z)%26)+-12)==input(0))==0))+1))+(((0+input(0))+3)*(((((0+z)%26)+-12)==input(0))==0)))',\n",
       " '(((z//1)*(((0+25)*(((((0+z)%26)+15)==input(0))==0))+1))+(((0+input(0))+7)*(((((0+z)%26)+15)==input(0))==0)))',\n",
       " '(((z//1)*(((0+25)*(((((0+z)%26)+11)==input(0))==0))+1))+(((0+input(0))+11)*(((((0+z)%26)+11)==input(0))==0)))',\n",
       " '(((z//26)*(((0+25)*(((((0+z)%26)+-3)==input(0))==0))+1))+(((0+input(0))+2)*(((((0+z)%26)+-3)==input(0))==0)))',\n",
       " '(((z//26)*(((0+25)*(((((0+z)%26)+-13)==input(0))==0))+1))+(((0+input(0))+12)*(((((0+z)%26)+-13)==input(0))==0)))',\n",
       " '(((z//26)*(((0+25)*(((((0+z)%26)+-12)==input(0))==0))+1))+(((0+input(0))+4)*(((((0+z)%26)+-12)==input(0))==0)))',\n",
       " '(((z//26)*(((0+25)*(((((0+z)%26)+-13)==input(0))==0))+1))+(((0+input(0))+11)*(((((0+z)%26)+-13)==input(0))==0)))']"
      ]
     },
     "execution_count": 122,
     "metadata": {},
     "output_type": "execute_result"
    }
   ],
   "source": [
    "final = []\n",
    "for i in range(14):\n",
    "    final.append(expression(instructions[18*i:18*i+18]))\n",
    "final"
   ]
  },
  {
   "cell_type": "markdown",
   "metadata": {},
   "source": [
    "two forms of expression\n",
    "(((z//26)*((25*((z%26-A)==input)==0))+1))+((input+B)*((z%26-A)==input)==0)))\n",
    "where 1 < A, B < 14\n",
    "and\n",
    "((z*((25*((z%26+A)==input)==0))+1))+((input+B)*((z%26+A)==input)==0)))\n",
    "\n",
    "in the first we have the boolean ((z%26-A)==input)==0) \n",
    "=> (25*((z%26-A)==input)==0)"
   ]
  },
  {
   "cell_type": "code",
   "execution_count": 123,
   "metadata": {},
   "outputs": [
    {
     "data": {
      "text/plain": [
       "['1,10,10,10',\n",
       " '1,13,5,13',\n",
       " '1,15,12,15',\n",
       " '26,-12,12,-12',\n",
       " '1,14,6,14',\n",
       " '26,-2,4,-2',\n",
       " '1,13,15,13',\n",
       " '26,-12,3,-12',\n",
       " '1,15,7,15',\n",
       " '1,11,11,11',\n",
       " '26,-3,2,-3',\n",
       " '26,-13,12,-13',\n",
       " '26,-12,4,-12',\n",
       " '26,-13,11,-13']"
      ]
     },
     "execution_count": 123,
     "metadata": {},
     "output_type": "execute_result"
    }
   ],
   "source": [
    "for i,t in enumerate(final):\n",
    "    final[i] = final[i].replace('(((z//','')\n",
    "    final[i] = final[i].replace(')*(((0+25)*(((((0+z)%26)+',',')\n",
    "    final[i] = final[i].replace(')==input(0))==0))+1))+(((0+input(0))+',',')\n",
    "    final[i] = final[i].replace(')*(((((0+z)%26)+',',')\n",
    "    final[i] = final[i].replace(')==input(0))==0)))','')\n",
    "final"
   ]
  },
  {
   "cell_type": "code",
   "execution_count": 124,
   "metadata": {},
   "outputs": [
    {
     "data": {
      "text/plain": [
       "[(1, 10, 10),\n",
       " (1, 13, 5),\n",
       " (1, 15, 12),\n",
       " (26, -12, 12),\n",
       " (1, 14, 6),\n",
       " (26, -2, 4),\n",
       " (1, 13, 15),\n",
       " (26, -12, 3),\n",
       " (1, 15, 7),\n",
       " (1, 11, 11),\n",
       " (26, -3, 2),\n",
       " (26, -13, 12),\n",
       " (26, -12, 4),\n",
       " (26, -13, 11)]"
      ]
     },
     "execution_count": 124,
     "metadata": {},
     "output_type": "execute_result"
    }
   ],
   "source": [
    "final = [tuple(int(n) for n in f.split(',')[:-1]) for f in final]\n",
    "final"
   ]
  },
  {
   "cell_type": "code",
   "execution_count": 125,
   "metadata": {},
   "outputs": [
    {
     "data": {
      "text/plain": [
       "[(14, 1),\n",
       " (15, 2),\n",
       " (16, 3),\n",
       " (17, 4),\n",
       " (18, 5),\n",
       " (19, 6),\n",
       " (20, 7),\n",
       " (21, 8),\n",
       " (22, 9)]"
      ]
     },
     "execution_count": 125,
     "metadata": {},
     "output_type": "execute_result"
    }
   ],
   "source": [
    "def solve(tup, R):\n",
    "    (M,A,B) = tup\n",
    "    result = []\n",
    "    for z in range(M*R,M*(R+1)):\n",
    "        input_val = (z % 26) + A\n",
    "        if 1 <= (z % 26) + A <= 9:\n",
    "            result.append((z,input_val))\n",
    "    for input_val in range(1,10):\n",
    "        if (R -input_val - B)%26 == 0:\n",
    "            result_val = (R-input_val-B)//26\n",
    "            for z in range(M*result_val,M*(result_val+1)):\n",
    "                if (z%26) + A != input_val:\n",
    "                    result.append((z,input_val))\n",
    "    return result\n",
    "\n",
    "solve(final[-1], 0)\n",
    "            "
   ]
  },
  {
   "cell_type": "code",
   "execution_count": 126,
   "metadata": {},
   "outputs": [
    {
     "name": "stdout",
     "output_type": "stream",
     "text": [
      "1\n",
      "9\n",
      "81\n",
      "2754\n",
      "43011\n",
      "9234\n",
      "3105\n",
      "27945\n",
      "18630\n",
      "171720\n",
      "94446\n",
      "1529064\n",
      "1067310\n",
      "43416\n",
      "9720\n"
     ]
    }
   ],
   "source": [
    "paths = [[(0,)]]\n",
    "for i in range(14):\n",
    "    print(len(paths))\n",
    "    next_paths = []\n",
    "    for p in paths:\n",
    "        R = p[-1][0]\n",
    "        for q in solve(final[-(1+i)], R):\n",
    "            next_paths.append(p + [q])\n",
    "    paths = next_paths\n",
    "print(len(paths))"
   ]
  },
  {
   "cell_type": "code",
   "execution_count": 127,
   "metadata": {
    "scrolled": true
   },
   "outputs": [
    {
     "name": "stdout",
     "output_type": "stream",
     "text": [
      "99995969919326\n"
     ]
    }
   ],
   "source": [
    "M = max(paths, key=lambda path:[p[-1] for p in path][::-1])\n",
    "print(''.join( str(n[1]) for n in M[::-1][:-1] ))"
   ]
  },
  {
   "cell_type": "code",
   "execution_count": 128,
   "metadata": {},
   "outputs": [
    {
     "name": "stdout",
     "output_type": "stream",
     "text": [
      "48111514719111\n"
     ]
    }
   ],
   "source": [
    "m = min(paths, key=lambda path:[p[-1] for p in path][::-1])\n",
    "print(''.join( str(n[1]) for n in m[::-1][:-1] ))"
   ]
  },
  {
   "cell_type": "code",
   "execution_count": 129,
   "metadata": {},
   "outputs": [],
   "source": [
    "# 25 seacukes\n",
    "\n",
    "with open('/Users/sherwoodhachtman/Downloads/input25.txt') as f:\n",
    "    d = f.read()\n",
    "    \n",
    "# d=\"\"\"v...>>.vv>\n",
    "# .vv>>.vv..\n",
    "# >>.>v>...v\n",
    "# >>v>>.>.v.\n",
    "# v>v.vv.v..\n",
    "# >.>>..v...\n",
    "# .vv..>.>v.\n",
    "# v.v..>>v.v\n",
    "# ....v..v.>\n",
    "# \"\"\"\n",
    "\n",
    "rows = d.split('\\n')[:-1]"
   ]
  },
  {
   "cell_type": "code",
   "execution_count": 130,
   "metadata": {},
   "outputs": [],
   "source": [
    "cukes = [[ch for ch in row] for row in rows]\n",
    "m = len(cukes)\n",
    "n = len(cukes[0])"
   ]
  },
  {
   "cell_type": "code",
   "execution_count": 131,
   "metadata": {},
   "outputs": [
    {
     "name": "stdout",
     "output_type": "stream",
     "text": [
      "571\n"
     ]
    }
   ],
   "source": [
    "step = 0\n",
    "nukes = list(cukes)\n",
    "while step < 10000 and (step == 0 or cukes != nukes):\n",
    "#     for row in nukes:\n",
    "#         print(row)\n",
    "#     print(step)\n",
    "    cukes = [[r for r in row] for row in nukes]\n",
    "    moves_east = set()\n",
    "    for i in range(m):\n",
    "        for j in range(n):\n",
    "            if nukes[i][j] == '>' and nukes[i][(j+1)%n] == '.':\n",
    "                moves_east.add((i,j))\n",
    "    for (i,j) in moves_east:\n",
    "        nukes[i][j],nukes[i][(j+1)%n] = '.','>'\n",
    "    moves_south = set()\n",
    "    for i in range(m):\n",
    "        for j in range(n):\n",
    "            if nukes[i][j] == 'v' and nukes[(i+1)%m][j] == '.':\n",
    "                moves_south.add((i,j))\n",
    "    for (i,j) in moves_south:\n",
    "        nukes[i][j],nukes[(i+1)%m][j] = '.','v'\n",
    "    step += 1\n",
    "print(step)"
   ]
  },
  {
   "cell_type": "code",
   "execution_count": 132,
   "metadata": {},
   "outputs": [
    {
     "name": "stdout",
     "output_type": "stream",
     "text": [
      "Total time to run all: 375.902459859848s\n"
     ]
    }
   ],
   "source": [
    "print('Total time to run all: {}s'.format(time.time() - total_time_start))"
   ]
  },
  {
   "cell_type": "code",
   "execution_count": 133,
   "metadata": {},
   "outputs": [],
   "source": [
    "# 23. 2018 nanobots\n",
    "\n",
    "import statistics\n",
    "with open('/Users/sherwoodhachtman/Downloads/input2018-23.txt') as d:\n",
    "    content = d.read()\n",
    "rows = content.split('\\n')[:-1]\n",
    "\n",
    "test = \"\"\"pos=<10,12,12>, r=2\n",
    "pos=<12,14,12>, r=2\n",
    "pos=<16,12,12>, r=4\n",
    "pos=<14,14,14>, r=6\n",
    "pos=<50,50,50>, r=200\n",
    "pos=<10,10,10>, r=5\n",
    "\"\"\"\n",
    "# rows = test.split('\\n')[:-1]"
   ]
  },
  {
   "cell_type": "code",
   "execution_count": 134,
   "metadata": {},
   "outputs": [
    {
     "name": "stdout",
     "output_type": "stream",
     "text": [
      "240\n"
     ]
    }
   ],
   "source": [
    "def taxicab_dist(tuple1, tuple2):\n",
    "    return sum(abs(tuple1[i]-tuple2[i]) for i in range(len(tuple1)))\n",
    "def pos(row):\n",
    "    row_commas = row.replace('pos=<', ',').replace('>, r=', ',')\n",
    "    nums = row_commas.split(',')[1:]\n",
    "    return tuple(int(nums[i]) for i in range(3))\n",
    "def radius(row):\n",
    "    row_commas = row.replace('pos=<', ',').replace('>, r=', ',')\n",
    "    nums = row_commas.split(',')[1:]\n",
    "    return int(nums[-1])\n",
    "def point_is_in_nbhd(pt, row):\n",
    "    return taxicab_dist(pt, pos(row)) <= radius(row)\n",
    "\n",
    "max_rad_index = -1\n",
    "max_rad = -float('inf')\n",
    "for i, row in enumerate(rows):\n",
    "    if radius(row) > max_rad:\n",
    "        max_rad_index = i\n",
    "        max_rad = radius(row)\n",
    "\n",
    "count = 0\n",
    "for row in rows:\n",
    "    if taxicab_dist(pos(row), pos(rows[max_rad_index])) <= max_rad:\n",
    "        count += 1\n",
    "print(count)"
   ]
  },
  {
   "cell_type": "code",
   "execution_count": 135,
   "metadata": {},
   "outputs": [],
   "source": [
    "def corners(row):\n",
    "    p = pos(row)\n",
    "    r = radius(row)\n",
    "    return([tuple(p[c]+u[c]*i*r for c in range(3)) for u in [(1,0,0),(0,1,0),(0,0,1)] \\\n",
    "            for i in (-1,1)])"
   ]
  },
  {
   "cell_type": "code",
   "execution_count": null,
   "metadata": {},
   "outputs": [],
   "source": [
    "overlap = [0]*1000\n",
    "for (i,row1) in enumerate(rows):\n",
    "    cor = corners(row1)\n",
    "    for (j,row2) in enumerate(rows):\n",
    "        overlap[j] += int(any(point_is_in_nbhd(c,row2) for c in cor))"
   ]
  },
  {
   "cell_type": "code",
   "execution_count": null,
   "metadata": {},
   "outputs": [],
   "source": [
    "sorted(overlap)[-10:]"
   ]
  },
  {
   "cell_type": "code",
   "execution_count": null,
   "metadata": {
    "scrolled": true
   },
   "outputs": [],
   "source": [
    "for i in range(3):\n",
    "    print(min(pos(row)[i] for row in rows), max(pos(row)[i] for row in rows))"
   ]
  },
  {
   "cell_type": "code",
   "execution_count": null,
   "metadata": {},
   "outputs": [],
   "source": [
    "def count_overlap(point, rows):\n",
    "    result = 0\n",
    "    for r in rows:\n",
    "        if point_is_in_nbhd(point, r):\n",
    "            result += 1\n",
    "    return result"
   ]
  },
  {
   "cell_type": "code",
   "execution_count": null,
   "metadata": {},
   "outputs": [],
   "source": [
    "points_overlap = dict()\n",
    "for row in rows:\n",
    "    for p in corners(row)+[pos(row)]:\n",
    "        if p not in points_overlap:\n",
    "            points_overlap[p] = 0\n",
    "            for r in rows:\n",
    "                if point_is_in_nbhd(p,r):\n",
    "                    points_overlap[p] += 1\n",
    "print(min(points_overlap.values()), max(points_overlap.values()))"
   ]
  },
  {
   "cell_type": "code",
   "execution_count": null,
   "metadata": {},
   "outputs": [],
   "source": [
    "for p in points_overlap:\n",
    "    if points_overlap[p] >= 830:\n",
    "        print(p, points_overlap[p])\n",
    "        print(sum(p))\n",
    "\n",
    "pt = (59111286, 12996794, 44439877)\n",
    "pt = [59111284, 12996794, 44439877]\n",
    "for i in range(3):\n",
    "    for j in (-1,1):\n",
    "        p = list(pt)\n",
    "        while count_overlap(tuple(p), rows) == 840:\n",
    "            p[i] += j\n",
    "        print(p, count_overlap(tuple(p), rows))"
   ]
  },
  {
   "cell_type": "code",
   "execution_count": null,
   "metadata": {},
   "outputs": [],
   "source": [
    "p = [59111284, 12996794, 44439877]\n",
    "L = 1000\n",
    "best = 0\n",
    "pt = None\n",
    "for i,j,k in itertools.product(range(-L,L,10),range(-L,L,10),range(-L,L,10)):\n",
    "    if count_overlap(tuple([p[0]+i, p[1]+j, p[2]+k]),rows) > best:\n",
    "        print('new best!')\n",
    "        print(tuple([p[0]+i, p[1]+j, p[2]+k]))\n",
    "        best = count_overlap(tuple([p[0]+i, p[1]+j, p[2]+k]),rows)\n",
    "        print(best)"
   ]
  },
  {
   "cell_type": "code",
   "execution_count": null,
   "metadata": {},
   "outputs": [],
   "source": [
    "sum(pt)"
   ]
  },
  {
   "cell_type": "code",
   "execution_count": null,
   "metadata": {},
   "outputs": [],
   "source": [
    "sum([59110284, 12996794, 44440867])"
   ]
  },
  {
   "cell_type": "code",
   "execution_count": null,
   "metadata": {},
   "outputs": [],
   "source": [
    "count_overlap((59111264, 12996799, 44439885), rows)"
   ]
  },
  {
   "cell_type": "code",
   "execution_count": null,
   "metadata": {},
   "outputs": [],
   "source": [
    "p = (59111264, 12996799, 44439885)\n",
    "for u in itertools.product(range(-1,2),repeat=3):\n",
    "    q = tuple(p[i]+u[i] for i in range(3))\n",
    "    print(count_overlap(q, rows), sum(q))\n",
    "best = 0\n",
    "closest = float('inf')\n",
    "for i,j,k in itertools.product(range(-10,10), repeat=3):\n",
    "    overlap = count_overlap(tuple([p[0]+i, p[1]+j, p[2]+k]),rows)\n",
    "    if overlap > best:\n",
    "        print('new best!')\n",
    "        print(tuple([p[0]+i, p[1]+j, p[2]+k]))\n",
    "        best = overlap\n",
    "        closest = i+j+k+1\n",
    "        print(best)\n",
    "    if overlap == best and i+j+k < closest:\n",
    "        print('new closest!')\n",
    "        print(sum(tuple([p[0]+i, p[1]+j, p[2]+k])))\n",
    "        closest = i+j+k\n",
    "\n"
   ]
  },
  {
   "cell_type": "code",
   "execution_count": null,
   "metadata": {},
   "outputs": [],
   "source": [
    "import datetime\n",
    "now = datetime.datetime.now()\n",
    "j = -3\n",
    "print(now)\n",
    "for i in range(10**9):\n",
    "    j += 1\n",
    "    if i%10**8==0:\n",
    "        print(datetime.datetime.now())\n",
    "print(j)"
   ]
  },
  {
   "cell_type": "code",
   "execution_count": null,
   "metadata": {},
   "outputs": [],
   "source": [
    "test = \"\"\"1 2\n",
    "3\"\"\""
   ]
  },
  {
   "cell_type": "code",
   "execution_count": null,
   "metadata": {},
   "outputs": [],
   "source": [
    "test"
   ]
  }
 ],
 "metadata": {
  "kernelspec": {
   "display_name": "Python 3",
   "language": "python",
   "name": "python3"
  },
  "language_info": {
   "codemirror_mode": {
    "name": "ipython",
    "version": 3
   },
   "file_extension": ".py",
   "mimetype": "text/x-python",
   "name": "python",
   "nbconvert_exporter": "python",
   "pygments_lexer": "ipython3",
   "version": "3.7.6"
  }
 },
 "nbformat": 4,
 "nbformat_minor": 5
}
