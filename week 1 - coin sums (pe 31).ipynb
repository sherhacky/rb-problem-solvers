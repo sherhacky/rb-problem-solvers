{
 "cells": [
  {
   "cell_type": "markdown",
   "metadata": {},
   "source": [
    "https://projecteuler.net/problem=31"
   ]
  },
  {
   "cell_type": "code",
   "execution_count": 12,
   "metadata": {},
   "outputs": [],
   "source": [
    "# idea: running tally of descending sequences of coins with sum <= 200.\n",
    "# Exclude coin value of 1p, imagining we are padding out with 1s\n",
    "\n",
    "import collections\n",
    "\n",
    "def ways_to_get_sum(max_value):\n",
    "    coin_values = (2, 5, 10, 20, 50, 100, 200)\n",
    "    tally = collections.defaultdict(int)\n",
    "    tally[(0, float('inf'))] = 1\n",
    "    new_tally = None\n",
    "    running_count = 0\n",
    "    while any(tally):\n",
    "        new_tally = collections.defaultdict(int)\n",
    "        for (coin_sum, smallest_coin) in tally:\n",
    "            running_count += tally[(coin_sum, smallest_coin)]\n",
    "            for next_coin in coin_values:\n",
    "                if next_coin <= smallest_coin and coin_sum + next_coin <= max_value:\n",
    "                    new_tally[(coin_sum + next_coin, next_coin)] += tally[(coin_sum, smallest_coin)]\n",
    "        tally = new_tally\n",
    "    return(running_count)"
   ]
  },
  {
   "cell_type": "code",
   "execution_count": 15,
   "metadata": {},
   "outputs": [
    {
     "name": "stdout",
     "output_type": "stream",
     "text": [
      "CPU times: user 8.86 ms, sys: 1.2 ms, total: 10.1 ms\n",
      "Wall time: 9.97 ms\n"
     ]
    },
    {
     "data": {
      "text/plain": [
       "73682"
      ]
     },
     "execution_count": 15,
     "metadata": {},
     "output_type": "execute_result"
    }
   ],
   "source": [
    "%%time\n",
    "ways_to_get_sum(200)"
   ]
  },
  {
   "cell_type": "code",
   "execution_count": 18,
   "metadata": {},
   "outputs": [],
   "source": [
    "# how I solved this in 2018.\n",
    "# n is the desired sum\n",
    "# d is the largest denomination allowed to be used\n",
    "\n",
    "def ways(n,d):\n",
    "    if n in {0,1} or d == 1:\n",
    "        return 1\n",
    "    else:\n",
    "        wlist = []\n",
    "        for k in [1,2,5,10,20,50,100,200]:\n",
    "            if k <= n and k <= d:\n",
    "                wlist.append(ways(n-k,k))\n",
    "    return sum(wlist)"
   ]
  },
  {
   "cell_type": "code",
   "execution_count": 23,
   "metadata": {},
   "outputs": [
    {
     "name": "stdout",
     "output_type": "stream",
     "text": [
      "CPU times: user 65.6 ms, sys: 2.45 ms, total: 68 ms\n",
      "Wall time: 68.8 ms\n"
     ]
    },
    {
     "data": {
      "text/plain": [
       "73682"
      ]
     },
     "execution_count": 23,
     "metadata": {},
     "output_type": "execute_result"
    }
   ],
   "source": [
    "%%time\n",
    "ways(200,200)"
   ]
  },
  {
   "cell_type": "code",
   "execution_count": 24,
   "metadata": {},
   "outputs": [
    {
     "name": "stdout",
     "output_type": "stream",
     "text": [
      "CPU times: user 215 ms, sys: 4.31 ms, total: 220 ms\n",
      "Wall time: 243 ms\n"
     ]
    },
    {
     "data": {
      "text/plain": [
       "321335886"
      ]
     },
     "execution_count": 24,
     "metadata": {},
     "output_type": "execute_result"
    }
   ],
   "source": [
    "%%time\n",
    "ways_to_get_sum(1000)"
   ]
  },
  {
   "cell_type": "code",
   "execution_count": 25,
   "metadata": {},
   "outputs": [
    {
     "name": "stdout",
     "output_type": "stream",
     "text": [
      "CPU times: user 4min 57s, sys: 2.71 s, total: 5min\n",
      "Wall time: 5min 24s\n"
     ]
    },
    {
     "data": {
      "text/plain": [
       "321335886"
      ]
     },
     "execution_count": 25,
     "metadata": {},
     "output_type": "execute_result"
    }
   ],
   "source": [
    "%%time\n",
    "ways(1000,200)"
   ]
  },
  {
   "cell_type": "code",
   "execution_count": null,
   "metadata": {},
   "outputs": [],
   "source": []
  }
 ],
 "metadata": {
  "kernelspec": {
   "display_name": "Python 3",
   "language": "python",
   "name": "python3"
  },
  "language_info": {
   "codemirror_mode": {
    "name": "ipython",
    "version": 3
   },
   "file_extension": ".py",
   "mimetype": "text/x-python",
   "name": "python",
   "nbconvert_exporter": "python",
   "pygments_lexer": "ipython3",
   "version": "3.7.6"
  }
 },
 "nbformat": 4,
 "nbformat_minor": 4
}
