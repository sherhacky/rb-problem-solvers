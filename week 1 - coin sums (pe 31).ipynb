{
 "cells": [
  {
   "cell_type": "markdown",
   "metadata": {},
   "source": [
    "[Project Euler 31: Coin sums](https://projecteuler.net/problem=31)"
   ]
  },
  {
   "cell_type": "markdown",
   "metadata": {},
   "source": [
    "The idea is to iteratively count the number of descending sequences of coin values that sum to at most 200, without using 1p coins.  Since we can pad out any such sequence with 0 or more 1p coins to reach a sum of exactly 200, this will coincide with the desired number of ways to make change.\n",
    "\n",
    "We use a DP approach.  On iteration $i$, `running_count` is the number of ways to make change for `max_value` with at most `i-1` coins, and `tally[(i,j)]` is the number of ways to get a sum of `i` using a collection of `i-1` coins whose smallest denomination is `j`."
   ]
  },
  {
   "cell_type": "code",
   "execution_count": 1,
   "metadata": {},
   "outputs": [],
   "source": [
    "import collections\n",
    "\n",
    "def ways_to_get_sum(max_value):\n",
    "    coin_values = (2, 5, 10, 20, 50, 100, 200)\n",
    "    tally = collections.defaultdict(int)\n",
    "    tally[(0, float('inf'))] = 1\n",
    "    new_tally = None\n",
    "    running_count = 0\n",
    "    while any(tally):\n",
    "        new_tally = collections.defaultdict(int)\n",
    "        for (coin_sum, smallest_coin) in tally:\n",
    "            running_count += tally[(coin_sum, smallest_coin)]\n",
    "            for next_coin in coin_values:\n",
    "                if next_coin <= smallest_coin and coin_sum + next_coin <= max_value:\n",
    "                    new_tally[(coin_sum + next_coin, next_coin)] += tally[(coin_sum, smallest_coin)]\n",
    "        tally = new_tally\n",
    "    return(running_count)"
   ]
  },
  {
   "cell_type": "code",
   "execution_count": 2,
   "metadata": {},
   "outputs": [
    {
     "name": "stdout",
     "output_type": "stream",
     "text": [
      "CPU times: user 8.63 ms, sys: 217 µs, total: 8.85 ms\n",
      "Wall time: 11 ms\n"
     ]
    },
    {
     "data": {
      "text/plain": [
       "73682"
      ]
     },
     "execution_count": 2,
     "metadata": {},
     "output_type": "execute_result"
    }
   ],
   "source": [
    "%%time\n",
    "ways_to_get_sum(200)"
   ]
  },
  {
   "cell_type": "markdown",
   "metadata": {},
   "source": [
    "A solution of mine from 2018 was the same idea but with a simple recursion.  It's prettier, but takes time exponential in the desired sum."
   ]
  },
  {
   "cell_type": "code",
   "execution_count": 3,
   "metadata": {},
   "outputs": [],
   "source": [
    "def ways_old(n,d):\n",
    "    if n in {0,1} or d == 1:\n",
    "        return 1\n",
    "    else:\n",
    "        wlist = []\n",
    "        for k in [1,2,5,10,20,50,100,200]:\n",
    "            if k <= n and k <= d:\n",
    "                wlist.append(ways_old(n-k,k))\n",
    "    return sum(wlist)"
   ]
  },
  {
   "cell_type": "code",
   "execution_count": 4,
   "metadata": {},
   "outputs": [
    {
     "name": "stdout",
     "output_type": "stream",
     "text": [
      "CPU times: user 78.7 ms, sys: 2.8 ms, total: 81.5 ms\n",
      "Wall time: 83.6 ms\n"
     ]
    },
    {
     "data": {
      "text/plain": [
       "73682"
      ]
     },
     "execution_count": 4,
     "metadata": {},
     "output_type": "execute_result"
    }
   ],
   "source": [
    "%%time\n",
    "ways_old(200,200)"
   ]
  },
  {
   "cell_type": "markdown",
   "metadata": {},
   "source": [
    "Comparing these approaches:"
   ]
  },
  {
   "cell_type": "code",
   "execution_count": 5,
   "metadata": {
    "scrolled": true
   },
   "outputs": [
    {
     "name": "stdout",
     "output_type": "stream",
     "text": [
      "CPU times: user 219 ms, sys: 2.99 ms, total: 222 ms\n",
      "Wall time: 228 ms\n"
     ]
    },
    {
     "data": {
      "text/plain": [
       "321335886"
      ]
     },
     "execution_count": 5,
     "metadata": {},
     "output_type": "execute_result"
    }
   ],
   "source": [
    "%%time\n",
    "ways_to_get_sum(1000)"
   ]
  },
  {
   "cell_type": "code",
   "execution_count": 6,
   "metadata": {},
   "outputs": [
    {
     "name": "stdout",
     "output_type": "stream",
     "text": [
      "CPU times: user 4min 59s, sys: 1.71 s, total: 5min\n",
      "Wall time: 5min 10s\n"
     ]
    },
    {
     "data": {
      "text/plain": [
       "321335886"
      ]
     },
     "execution_count": 6,
     "metadata": {},
     "output_type": "execute_result"
    }
   ],
   "source": [
    "%%time\n",
    "ways_old(1000,200)"
   ]
  },
  {
   "cell_type": "markdown",
   "metadata": {},
   "source": [
    "So the \"fast\" way is better, but note that it's actually pretty bad, $O(n^2)$ in the desired sum.  We can improve this with a DP that iterates along desired sums instead of number of coins used.  In the code below, we construct a list of lists `tallies`, so that `tallies[i][j]` is the number of ways to make change for `i` pence with (any number of) coins whose largest denomination is the one at index `j` in the ordered list of denominations (except for the case of `tallies[0]`, which is defined to get the induction off the ground).  The result is $O(mn)$ in time/space complexity where $m$ is the number of denominations used."
   ]
  },
  {
   "cell_type": "code",
   "execution_count": 7,
   "metadata": {},
   "outputs": [],
   "source": [
    "def ways_to_get_better(desired_sum, list_of_denominations):\n",
    "    list_of_denominations.sort()\n",
    "    tallies = [[1]+[0]*(len(list_of_denominations)-1)]\n",
    "    while len(tallies) <= desired_sum:\n",
    "        current_tally = []\n",
    "        for coin_index, coin_value in enumerate(list_of_denominations):\n",
    "            current_sum = len(tallies)\n",
    "            current_tally.append(0)\n",
    "            if coin_value <= current_sum:\n",
    "                for previous_coin_index, previous_coin_value in enumerate(list_of_denominations[:coin_index+1]):\n",
    "                    current_tally[-1] += tallies[current_sum - coin_value][previous_coin_index]\n",
    "        tallies.append(current_tally)\n",
    "    return sum(tallies[-1])"
   ]
  },
  {
   "cell_type": "code",
   "execution_count": 8,
   "metadata": {},
   "outputs": [
    {
     "name": "stdout",
     "output_type": "stream",
     "text": [
      "CPU times: user 1.76 ms, sys: 77 µs, total: 1.84 ms\n",
      "Wall time: 2.2 ms\n"
     ]
    },
    {
     "data": {
      "text/plain": [
       "73682"
      ]
     },
     "execution_count": 8,
     "metadata": {},
     "output_type": "execute_result"
    }
   ],
   "source": [
    "%%time\n",
    "ways_to_get_better(200, [1,2,5,10,20,50,100,200])"
   ]
  },
  {
   "cell_type": "code",
   "execution_count": 9,
   "metadata": {},
   "outputs": [
    {
     "name": "stdout",
     "output_type": "stream",
     "text": [
      "CPU times: user 1.01 s, sys: 28.4 ms, total: 1.04 s\n",
      "Wall time: 1.05 s\n"
     ]
    },
    {
     "data": {
      "text/plain": [
       "10056050940818192726001"
      ]
     },
     "execution_count": 9,
     "metadata": {},
     "output_type": "execute_result"
    }
   ],
   "source": [
    "%%time\n",
    "ways_to_get_better(100000, [1,2,5,10,20,50,100,200])"
   ]
  },
  {
   "cell_type": "markdown",
   "metadata": {},
   "source": [
    "Compare the previous \"fast\" method:"
   ]
  },
  {
   "cell_type": "code",
   "execution_count": 10,
   "metadata": {},
   "outputs": [
    {
     "name": "stdout",
     "output_type": "stream",
     "text": [
      "CPU times: user 1h 1min 4s, sys: 47.4 s, total: 1h 1min 51s\n",
      "Wall time: 1h 16min 52s\n"
     ]
    },
    {
     "data": {
      "text/plain": [
       "10056050940818192726001"
      ]
     },
     "execution_count": 10,
     "metadata": {},
     "output_type": "execute_result"
    }
   ],
   "source": [
    "%%time\n",
    "ways_to_get_sum(100000)"
   ]
  },
  {
   "cell_type": "markdown",
   "metadata": {},
   "source": [
    "Woof!\n",
    "\n",
    "The better way is indeed linear time:"
   ]
  },
  {
   "cell_type": "code",
   "execution_count": 11,
   "metadata": {},
   "outputs": [
    {
     "name": "stdout",
     "output_type": "stream",
     "text": [
      "CPU times: user 20.6 s, sys: 445 ms, total: 21 s\n",
      "Wall time: 21.1 s\n"
     ]
    },
    {
     "data": {
      "text/plain": [
       "12707037135786778764112854520001"
      ]
     },
     "execution_count": 11,
     "metadata": {},
     "output_type": "execute_result"
    }
   ],
   "source": [
    "%%time\n",
    "ways_to_get_better(2000000, [1,2,5,10,20,50,100,200])"
   ]
  },
  {
   "cell_type": "markdown",
   "metadata": {},
   "source": [
    "Notice we only ever need to look at the last 200 indices of `tallies` to append its next element.  So we can modify to use a length 200 list that uses pointers to mimic a linked list-type structure, reducing space used to $O(md)$ ($m$ is the number of different denominations and $d$ is the maximum denomination &mdash; hence constant space when denominations are fixed)."
   ]
  },
  {
   "cell_type": "code",
   "execution_count": 12,
   "metadata": {},
   "outputs": [],
   "source": [
    "def ways_to_get_best(desired_sum, list_of_denominations):\n",
    "    list_of_denominations.sort()\n",
    "    max_denom = list_of_denominations[-1]\n",
    "    tallies = [[] for _ in range(max_denom+1)]\n",
    "    tallies[0] = [1]+[0]*(len(list_of_denominations)-1)\n",
    "    current_sum = 1\n",
    "    while current_sum <= desired_sum:\n",
    "        current_tally = []\n",
    "        tally_index = current_sum % len(tallies)\n",
    "        for coin_index, coin_value in enumerate(list_of_denominations):\n",
    "            current_tally.append(0)\n",
    "            if coin_value <= current_sum:\n",
    "                for previous_coin_index, previous_coin_value in enumerate(list_of_denominations[:coin_index+1]):\n",
    "                    current_tally[-1] += tallies[(current_sum - coin_value) % len(tallies)][previous_coin_index]\n",
    "        tallies[tally_index] = current_tally\n",
    "        current_sum += 1\n",
    "    return sum(tallies[(current_sum-1) % len(tallies)])"
   ]
  },
  {
   "cell_type": "code",
   "execution_count": 13,
   "metadata": {},
   "outputs": [
    {
     "name": "stdout",
     "output_type": "stream",
     "text": [
      "CPU times: user 1.58 ms, sys: 16 µs, total: 1.6 ms\n",
      "Wall time: 1.62 ms\n"
     ]
    },
    {
     "data": {
      "text/plain": [
       "73682"
      ]
     },
     "execution_count": 13,
     "metadata": {},
     "output_type": "execute_result"
    }
   ],
   "source": [
    "%%time\n",
    "ways_to_get_best(200, [1,2,5,10,20,50,100,200])"
   ]
  },
  {
   "cell_type": "code",
   "execution_count": 14,
   "metadata": {},
   "outputs": [
    {
     "name": "stdout",
     "output_type": "stream",
     "text": [
      "CPU times: user 22.3 s, sys: 49.4 ms, total: 22.4 s\n",
      "Wall time: 22.5 s\n"
     ]
    },
    {
     "data": {
      "text/plain": [
       "12707037135786778764112854520001"
      ]
     },
     "execution_count": 14,
     "metadata": {},
     "output_type": "execute_result"
    }
   ],
   "source": [
    "%%time\n",
    "ways_to_get_best(2000000, [1,2,5,10,20,50,100,200])"
   ]
  }
 ],
 "metadata": {
  "kernelspec": {
   "display_name": "Python 3",
   "language": "python",
   "name": "python3"
  },
  "language_info": {
   "codemirror_mode": {
    "name": "ipython",
    "version": 3
   },
   "file_extension": ".py",
   "mimetype": "text/x-python",
   "name": "python",
   "nbconvert_exporter": "python",
   "pygments_lexer": "ipython3",
   "version": "3.7.6"
  }
 },
 "nbformat": 4,
 "nbformat_minor": 4
}
