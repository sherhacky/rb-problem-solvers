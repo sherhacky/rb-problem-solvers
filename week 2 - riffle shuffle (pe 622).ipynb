{
 "cells": [
  {
   "cell_type": "markdown",
   "metadata": {},
   "source": [
    "Let $2n$ be the deck size.  A riffle shuffle sends the card in position $i$ to the position $2i \\pmod{2n-1}$ (for $i = 1, ..., 2n-2$).  So $k$ riffle shuffles send this card to $2^k i \\pmod{2n-1}$.  Therefore a card returns to its starting position after $k$ shuffles iff $i \\equiv 2^k \n",
    "i \\pmod{2n-1}$; that is, if $2n-1$ divides $i(2^k - 1)$.\n",
    "\n",
    "Taking $i=1$ we see that $k$ shuffles returns the deck to its original position iff $2n-1$ is a divisor of $2^k - 1$.  Therefore to find all deck sizes $d$ with $s(d) = m$ for fixed $m$, we need to find all factors of $2^m - 1$ that are not factors of $2^k - 1$ for any $k < m$."
   ]
  },
  {
   "cell_type": "code",
   "execution_count": 50,
   "metadata": {},
   "outputs": [],
   "source": [
    "import itertools\n",
    "\n",
    "# Not efficient, w/e, leave me alone\n",
    "def prime_factorization(n):\n",
    "    factors = []\n",
    "    divisor = 2\n",
    "    while n > 1:\n",
    "        while n % divisor == 0:\n",
    "            factors.append(divisor)\n",
    "            n //= divisor\n",
    "        divisor += 1\n",
    "    return factors\n",
    "\n",
    "# They added math.prod in Python 3.8.  Writing this was easier than updating jupyter\n",
    "def prod(sequence):\n",
    "    result = 1\n",
    "    for k in sequence:\n",
    "        result *= k\n",
    "    return result\n",
    "\n",
    "# I know there's some scipy library or something that does this. again, lazy\n",
    "def factors(n):\n",
    "    prime_factors = prime_factorization(n)\n",
    "    result = set()\n",
    "    for r in range(1, len(prime_factors) + 1):\n",
    "        for subsequence in itertools.combinations(prime_factors, r):\n",
    "            result.add(prod(subsequence))\n",
    "    return result"
   ]
  },
  {
   "cell_type": "code",
   "execution_count": 45,
   "metadata": {},
   "outputs": [],
   "source": [
    "def count_deck_sizes_with_s_value(n):\n",
    "    prime_factors = prime_factorization(2**n - 1)\n",
    "    deck_sizes_that_work = set()\n",
    "    for r in range(1,len(prime_factors)+1):\n",
    "        for subsequence in itertools.combinations(prime_factors, r):\n",
    "            product = prod(subsequence)\n",
    "            if all((2**k - 1) % product != 0 for k in range(1,n)):\n",
    "                deck_sizes_that_work.add(product+1)\n",
    "    return(sum(deck_sizes_that_work))"
   ]
  },
  {
   "cell_type": "markdown",
   "metadata": {},
   "source": [
    "Check this works for $n=8$:"
   ]
  },
  {
   "cell_type": "code",
   "execution_count": 56,
   "metadata": {},
   "outputs": [
    {
     "name": "stdout",
     "output_type": "stream",
     "text": [
      "CPU times: user 57 µs, sys: 0 ns, total: 57 µs\n",
      "Wall time: 60.3 µs\n"
     ]
    },
    {
     "data": {
      "text/plain": [
       "412"
      ]
     },
     "execution_count": 56,
     "metadata": {},
     "output_type": "execute_result"
    }
   ],
   "source": [
    "%%time\n",
    "count_deck_sizes_with_s_value(8)"
   ]
  },
  {
   "cell_type": "code",
   "execution_count": 57,
   "metadata": {},
   "outputs": [
    {
     "name": "stdout",
     "output_type": "stream",
     "text": [
      "CPU times: user 236 ms, sys: 4.35 ms, total: 240 ms\n",
      "Wall time: 259 ms\n"
     ]
    },
    {
     "data": {
      "text/plain": [
       "3010983666182123972"
      ]
     },
     "execution_count": 57,
     "metadata": {},
     "output_type": "execute_result"
    }
   ],
   "source": [
    "%%time\n",
    "count_deck_sizes_with_s_value(60)"
   ]
  },
  {
   "cell_type": "markdown",
   "metadata": {},
   "source": [
    "For full disclosure, I apparently solved this in 2018 too, but I can't find the work on this laptop."
   ]
  },
  {
   "cell_type": "code",
   "execution_count": null,
   "metadata": {},
   "outputs": [],
   "source": []
  }
 ],
 "metadata": {
  "kernelspec": {
   "display_name": "Python 3",
   "language": "python",
   "name": "python3"
  },
  "language_info": {
   "codemirror_mode": {
    "name": "ipython",
    "version": 3
   },
   "file_extension": ".py",
   "mimetype": "text/x-python",
   "name": "python",
   "nbconvert_exporter": "python",
   "pygments_lexer": "ipython3",
   "version": "3.7.6"
  }
 },
 "nbformat": 4,
 "nbformat_minor": 4
}
