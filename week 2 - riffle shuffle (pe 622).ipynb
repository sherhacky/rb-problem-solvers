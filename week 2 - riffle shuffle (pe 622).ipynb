{
 "cells": [
  {
   "cell_type": "markdown",
   "metadata": {},
   "source": [
    "Let $2m$ be the deck size.  A riffle shuffle sends the card in position $i$ to the position $2i \\pmod{2m-1}$ (for $i = 1, ..., 2m-2$).  So $k$ riffle shuffles send this card to $2^k i \\pmod{2m-1}$.  Therefore a card returns to its starting position after $k$ shuffles iff $i \\equiv 2^k \n",
    "i \\pmod{2m-1}$; that is, if $2m-1$ divides $i(2^k - 1)$.\n",
    "\n",
    "Taking $i=1$ we see that $k$ shuffles returns the deck to its original position iff $2m-1$ is a divisor of $2^k - 1$.  Therefore to find all deck sizes $n$ with $s(n) = r$ for fixed $r$, we need to find all divisors of $2^r - 1$ that are not divisors of $2^k - 1$ for any $k < r$."
   ]
  },
  {
   "cell_type": "code",
   "execution_count": 1,
   "metadata": {},
   "outputs": [],
   "source": [
    "from sympy.ntheory.factor_ import divisors"
   ]
  },
  {
   "cell_type": "code",
   "execution_count": 2,
   "metadata": {},
   "outputs": [],
   "source": [
    "def count_deck_sizes_with_s_value(r):\n",
    "    result = 0\n",
    "    for product in divisors(2**r - 1):\n",
    "        if all((2**k - 1) % product != 0 for k in range(1,r)):\n",
    "            result += product+1\n",
    "    return result"
   ]
  },
  {
   "cell_type": "markdown",
   "metadata": {},
   "source": [
    "Check this works for $n=8$:"
   ]
  },
  {
   "cell_type": "code",
   "execution_count": 3,
   "metadata": {},
   "outputs": [
    {
     "name": "stdout",
     "output_type": "stream",
     "text": [
      "CPU times: user 66 µs, sys: 0 ns, total: 66 µs\n",
      "Wall time: 70.1 µs\n"
     ]
    },
    {
     "data": {
      "text/plain": [
       "412"
      ]
     },
     "execution_count": 3,
     "metadata": {},
     "output_type": "execute_result"
    }
   ],
   "source": [
    "%%time\n",
    "count_deck_sizes_with_s_value(8)"
   ]
  },
  {
   "cell_type": "code",
   "execution_count": 4,
   "metadata": {},
   "outputs": [
    {
     "name": "stdout",
     "output_type": "stream",
     "text": [
      "CPU times: user 132 ms, sys: 3 ms, total: 135 ms\n",
      "Wall time: 141 ms\n"
     ]
    },
    {
     "data": {
      "text/plain": [
       "3010983666182123972"
      ]
     },
     "execution_count": 4,
     "metadata": {},
     "output_type": "execute_result"
    }
   ],
   "source": [
    "%%time\n",
    "count_deck_sizes_with_s_value(60)"
   ]
  },
  {
   "cell_type": "markdown",
   "metadata": {},
   "source": [
    "For full disclosure, I apparently solved this in 2018 too, but I couldn't find where."
   ]
  },
  {
   "cell_type": "markdown",
   "metadata": {},
   "source": [
    "And who doesn't love an unreadable 1 liner?"
   ]
  },
  {
   "cell_type": "code",
   "execution_count": 5,
   "metadata": {},
   "outputs": [],
   "source": [
    "def cheap(r):\n",
    "    return sum(p+1 for p in divisors(2**r-1) if all((2**k-1) % p !=0 for k in range(1,r)))"
   ]
  },
  {
   "cell_type": "code",
   "execution_count": 6,
   "metadata": {},
   "outputs": [
    {
     "name": "stdout",
     "output_type": "stream",
     "text": [
      "CPU times: user 134 ms, sys: 3.99 ms, total: 138 ms\n",
      "Wall time: 152 ms\n"
     ]
    },
    {
     "data": {
      "text/plain": [
       "3010983666182123972"
      ]
     },
     "execution_count": 6,
     "metadata": {},
     "output_type": "execute_result"
    }
   ],
   "source": [
    "%%time\n",
    "cheap(60)"
   ]
  }
 ],
 "metadata": {
  "kernelspec": {
   "display_name": "Python 3",
   "language": "python",
   "name": "python3"
  },
  "language_info": {
   "codemirror_mode": {
    "name": "ipython",
    "version": 3
   },
   "file_extension": ".py",
   "mimetype": "text/x-python",
   "name": "python",
   "nbconvert_exporter": "python",
   "pygments_lexer": "ipython3",
   "version": "3.7.6"
  }
 },
 "nbformat": 4,
 "nbformat_minor": 4
}
